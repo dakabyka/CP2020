{
 "cells": [
  {
   "cell_type": "markdown",
   "metadata": {},
   "source": [
    "# I. Linear least squares approximation"
   ]
  },
  {
   "cell_type": "markdown",
   "metadata": {},
   "source": [
    "Consider a function $y = f(x)$ which is defined by a set of values $y_0, y_1, \\cdots, y_n$ at points $x_0, x_1, \\cdots, x_n$."
   ]
  },
  {
   "cell_type": "code",
   "execution_count": 251,
   "metadata": {},
   "outputs": [],
   "source": [
    "x = [-1, -0.7, -0.43, -0.14, -0.14, 0.43, 0.71, 1, 1.29, 1.57, 1.86, 2.14, 2.43, 2.71, 3]\n",
    "y = [-2.25, -0.77, 0.21, 0.44, 0.64, 0.03, -0.22, -0.84, -1.2, -1.03, -0.37, 0.61, 2.67, 5.04, 8.90]"
   ]
  },
  {
   "cell_type": "markdown",
   "metadata": {},
   "source": [
    "### I.I. Find a best fit polynomial\n",
    "\n",
    "$$\n",
    "P_m(x) = a_0 + a_1 x + \\cdots + a_m x^m\n",
    "$$\n",
    "\n",
    "using the linear least squares approach. To this end\n",
    "\n",
    "1. implement a function which constructs the design matrix using $1, x, \\cdots, x^m$ as the basis functions.\n",
    "\n",
    "2. construct explicitly the normal system of equations of the linear least squares problem at fixed $m$.\n",
    "\n",
    "3. Solve the normal equations to find the coefficients of $P_m(x)$ for $m = 0, 1, 2, \\dots$. For the linear algebra problem, you can either use library functions (`numpy.linalg.solve`) or your LU factorization code from week 1.\n",
    "\n",
    "(20% of the total grade)"
   ]
  },
  {
   "cell_type": "code",
   "execution_count": 252,
   "metadata": {},
   "outputs": [],
   "source": [
    "import numpy as np\n",
    "\n",
    "n = len(x)"
   ]
  },
  {
   "cell_type": "code",
   "execution_count": 253,
   "metadata": {},
   "outputs": [],
   "source": [
    "def design_matrix(m):\n",
    "    \n",
    "    A = np.zeros((n, m+1)) \n",
    "    \n",
    "    for i in range(n):\n",
    "        for j in range(m+1):\n",
    "            A[i,j] = x[i]**j\n",
    "    return A"
   ]
  },
  {
   "cell_type": "code",
   "execution_count": 254,
   "metadata": {},
   "outputs": [
    {
     "data": {
      "text/plain": [
       "array([[ 1.    , -1.    ,  1.    ],\n",
       "       [ 1.    , -0.7   ,  0.49  ],\n",
       "       [ 1.    , -0.43  ,  0.1849],\n",
       "       [ 1.    , -0.14  ,  0.0196],\n",
       "       [ 1.    , -0.14  ,  0.0196],\n",
       "       [ 1.    ,  0.43  ,  0.1849],\n",
       "       [ 1.    ,  0.71  ,  0.5041],\n",
       "       [ 1.    ,  1.    ,  1.    ],\n",
       "       [ 1.    ,  1.29  ,  1.6641],\n",
       "       [ 1.    ,  1.57  ,  2.4649],\n",
       "       [ 1.    ,  1.86  ,  3.4596],\n",
       "       [ 1.    ,  2.14  ,  4.5796],\n",
       "       [ 1.    ,  2.43  ,  5.9049],\n",
       "       [ 1.    ,  2.71  ,  7.3441],\n",
       "       [ 1.    ,  3.    ,  9.    ]])"
      ]
     },
     "execution_count": 254,
     "metadata": {},
     "output_type": "execute_result"
    }
   ],
   "source": [
    "design_matrix(2)"
   ]
  },
  {
   "cell_type": "markdown",
   "metadata": {},
   "source": [
    "It seems to be ok."
   ]
  },
  {
   "cell_type": "markdown",
   "metadata": {},
   "source": [
    "The normal equations:\n",
    "$$\n",
    "A^TA \\vec{\\beta} = A^T\\vec{y},\n",
    "$$\n",
    "where $\\vec{\\beta}$ is a vector of coefficients of $P_m(x)$."
   ]
  },
  {
   "cell_type": "code",
   "execution_count": 255,
   "metadata": {},
   "outputs": [],
   "source": [
    "def coeff_b(m):\n",
    "    \n",
    "    A = design_matrix(m)\n",
    "\n",
    "    A_T_A = A.T@A\n",
    "    A_T_y = A.T@y\n",
    "    \n",
    "    b = np.linalg.solve(A_T_A, A_T_y)\n",
    "    return np.flip(b) #нулевой элемент - коэфф. при старшей степени"
   ]
  },
  {
   "cell_type": "code",
   "execution_count": 256,
   "metadata": {},
   "outputs": [
    {
     "name": "stdout",
     "output_type": "stream",
     "text": [
      "m = 0 :  b = [0.79066667]\n",
      "m = 1 :  b = [ 1.46502399 -0.6479869 ]\n",
      "m = 2 :  b = [ 1.0667959  -0.65313865 -1.25772058]\n"
     ]
    }
   ],
   "source": [
    "for i in range(3):\n",
    "    b = coeff_b(i)\n",
    "    print('m =', i, ':  b =', b)"
   ]
  },
  {
   "cell_type": "markdown",
   "metadata": {},
   "source": [
    "### I.II \n",
    "\n",
    "To find the optimal value of m, use the following criterion: take $m=0, 1, 2, \\dots$, for each value of $m$ compute \n",
    "\n",
    "$$\n",
    "\\sigma_m^2 = \\frac{1}{n - m} \\sum_{k=0}^n \\left( P_m(x_k) - y_k \\right)^2\n",
    "$$\n",
    "\n",
    "And take the value of $m$, at which $\\sigma_m$ stabilizes or starts increasing.\n",
    "\n",
    "(20% of the total grade)"
   ]
  },
  {
   "cell_type": "code",
   "execution_count": 257,
   "metadata": {},
   "outputs": [],
   "source": [
    "def sigma(m):\n",
    "    \n",
    "    g = 0\n",
    "    \n",
    "    for k in range(n):\n",
    "        g += (np.polyval(coeff_b(m), x[k]) - y[k])**2\n",
    "        \n",
    "    g = (g/(n-m))**2 #хотим sigma, а не sigma**2\n",
    "    \n",
    "    return g"
   ]
  },
  {
   "cell_type": "code",
   "execution_count": 283,
   "metadata": {},
   "outputs": [
    {
     "data": {
      "text/plain": [
       "Text(0, 0.5, 'sigma')"
      ]
     },
     "execution_count": 283,
     "metadata": {},
     "output_type": "execute_result"
    },
    {
     "data": {
      "image/png": "[encoded data removed]",
      "text/plain": [
       "<Figure size 504x360 with 1 Axes>"
      ]
     },
     "metadata": {
      "needs_background": "light"
     },
     "output_type": "display_data"
    }
   ],
   "source": [
    "import matplotlib.pyplot as plt\n",
    "\n",
    "max_m = n-1 # при m=15 обнуляется знаменатель sigma\n",
    "\n",
    "s = [sigma(i) for i in range(max_m+1)]\n",
    "\n",
    "plt.figure(figsize=(7,5))\n",
    "plt.plot(np.arange(max_m+1), s, '-o')\n",
    "\n",
    "plt.xlabel('m', fontsize=15)\n",
    "plt.ylabel('sigma', fontsize=15)"
   ]
  },
  {
   "cell_type": "markdown",
   "metadata": {},
   "source": [
    "Видим из графика, что $\\sigma_m$ стабилизируется примерно при $m = 3$. Найдём оптимальное значение:"
   ]
  },
  {
   "cell_type": "code",
   "execution_count": 277,
   "metadata": {},
   "outputs": [],
   "source": [
    "def best_m(m): \n",
    "    \n",
    "    best_m = 0\n",
    "    \n",
    "    for i in range(m):\n",
    "        if sigma(i+1) > sigma(i):\n",
    "            best_m = i\n",
    "            break\n",
    "    return best_m"
   ]
  },
  {
   "cell_type": "code",
   "execution_count": 275,
   "metadata": {},
   "outputs": [
    {
     "data": {
      "text/plain": [
       "4"
      ]
     },
     "execution_count": 275,
     "metadata": {},
     "output_type": "execute_result"
    }
   ],
   "source": [
    "best_m(n)"
   ]
  },
  {
   "cell_type": "markdown",
   "metadata": {},
   "source": [
    "Оказывается, параметр $\\sigma_m$ для $m = 4$ меньше, а после $m = 4$ увеличился."
   ]
  },
  {
   "cell_type": "markdown",
   "metadata": {},
   "source": [
    "Plot your polynomials $P_m(x)$ on one plot, together with the datapoints. Visually compare best-fit polynomials of different degrees. Is the visual comparison consistent with the optimal value of $m$?"
   ]
  },
  {
   "cell_type": "code",
   "execution_count": 299,
   "metadata": {},
   "outputs": [
    {
     "data": {
      "text/plain": [
       "<matplotlib.legend.Legend at 0x271067277b8>"
      ]
     },
     "execution_count": 299,
     "metadata": {},
     "output_type": "execute_result"
    },
    {
     "data": {
      "image/png": "[encoded data removed]",
      "text/plain": [
       "<Figure size 720x504 with 1 Axes>"
      ]
     },
     "metadata": {
      "needs_background": "light"
     },
     "output_type": "display_data"
    }
   ],
   "source": [
    "plt.figure(figsize=(10,7))\n",
    "\n",
    "x0 = np.linspace(-1, 3, 200)\n",
    "\n",
    "for m in range(len(x)):\n",
    "    P = np.polyval(coeff_b(m), x0 )\n",
    "    \n",
    "    if m == best_m(n):\n",
    "        plt.plot(x0, P, lw=5, color = 'blue', label='best fit')\n",
    "    else:\n",
    "        plt.plot(x0, P, ls='--', color = 'black')\n",
    "        \n",
    "plt.plot(x, y, 'o', ms='7', label='data', color='red')\n",
    "plt.xlabel('x', fontsize=15)\n",
    "plt.ylabel('y', fontsize=15)\n",
    "plt.legend()"
   ]
  },
  {
   "cell_type": "markdown",
   "metadata": {},
   "source": [
    "Как видим, исходные точки визуально больше напоминают кубическую зависимость, но, вероятно, лучше подгоняются четвёртой степенью из-за двойной точки $x = -0.14$. Ещё видим, что полиномы больших степеней начинают сильно осциллировать."
   ]
  },
  {
   "cell_type": "markdown",
   "metadata": {},
   "source": [
    "### I.III. Linear least-squares using the QR factorization.\n",
    "\n",
    "For the optimal value of $m$ from the previous part, solve the LLS problem using the QR factorization, withou ever forming the normal equations explicitly. For linear algebra, you can use standard library functions (look up `numpy.linalg.solve`, `numpy.linalg.qr` etc) or your code from previous weeks.\n",
    "\n",
    "Compare the results with the results of solving the normal system of equations.\n",
    "\n",
    "(20% of the grade)"
   ]
  },
  {
   "cell_type": "code",
   "execution_count": 180,
   "metadata": {},
   "outputs": [
    {
     "name": "stdout",
     "output_type": "stream",
     "text": [
      "The normal system:  [ 0.49483598 -0.26983377 -2.01973166  1.01540301] \n",
      " The QR factorization:  [ 0.49483598 -0.26983377 -2.01973166  1.01540301] \n",
      " The difference between them:  [ 1.93178806e-14  4.55191440e-15 -3.55271368e-14  1.15463195e-14]\n"
     ]
    }
   ],
   "source": [
    "M = best_m(10)\n",
    "y_ = y.copy()\n",
    "\n",
    "Q, R = np.linalg.qr(design_matrix(M))\n",
    "\n",
    "y_ = np.dot(Q.T, y_)\n",
    "f = y_[:M+1]\n",
    "\n",
    "# оказалось, что библиотечная R есть R1 из лекций\n",
    "b_qr = np.linalg.solve(R, f)\n",
    "\n",
    "print(\"The normal system: \", coeff_b(M), \"\\n The QR factorization: \", b_qr, \"\\n The difference between them: \", coeff_b(M)-b_qr)"
   ]
  },
  {
   "cell_type": "markdown",
   "metadata": {},
   "source": [
    "Как видим, значения отличаются. В данном случае на величины порядка 1е-14, но отличаются."
   ]
  },
  {
   "cell_type": "markdown",
   "metadata": {},
   "source": [
    "# II. Lagrange interpolation"
   ]
  },
  {
   "cell_type": "markdown",
   "metadata": {},
   "source": [
    "### II.1 \n",
    "\n",
    "Consider the function, $f(x) = x^2 \\cos{x}$. On the interval $x\\in [\\pi/2, \\pi]$, interpolate the function using the Lagrange interpolating polynomial of degree $m$ with $m=1, 2, 3, 4, 5$. Use the uniform mesh. Plot the resulting interpolants together with $f(x)$.\n",
    "\n",
    "(20% of the total grade)"
   ]
  },
  {
   "cell_type": "code",
   "execution_count": 300,
   "metadata": {},
   "outputs": [],
   "source": [
    "def lagrange(xval, xk, yk, m):\n",
    "    \n",
    "    for i in range(m):\n",
    "        L = 0\n",
    "        l = 1.0\n",
    "        for j in range(m):\n",
    "            if j == i:\n",
    "                continue\n",
    "            l *= (xval - xk[j])/(xk[i] - xk[j])\n",
    "        L += yk[i]*l\n",
    "        \n",
    "    return L"
   ]
  },
  {
   "cell_type": "code",
   "execution_count": 301,
   "metadata": {},
   "outputs": [],
   "source": [
    "func = lambda t: np.cos(t)*t**2"
   ]
  },
  {
   "cell_type": "code",
   "execution_count": 318,
   "metadata": {},
   "outputs": [],
   "source": [
    "def plot_interp(nodes):\n",
    "    \n",
    "    plt.figure()\n",
    "    \n",
    "    yy = func(nodes)\n",
    "    \n",
    "    xn = np.linspace(np.pi/2, np.pi, 201)\n",
    "    \n",
    "    for m in range(5, 6):\n",
    "        \n",
    "        yn = [lagrange(r, nodes, yy, m) for r in xn]\n",
    "        plt.plot(xn, yn)\n",
    "        \n",
    "    plt.plot(xn, func(xn), label='Function')\n",
    "    plt.plot(nodes, yy, 'o', ms=5)\n",
    "    \n",
    "    plt.legend()"
   ]
  },
  {
   "cell_type": "code",
   "execution_count": 319,
   "metadata": {},
   "outputs": [
    {
     "data": {
      "image/png": "[encoded data removed]",
      "text/plain": [
       "<Figure size 432x288 with 1 Axes>"
      ]
     },
     "metadata": {
      "needs_background": "light"
     },
     "output_type": "display_data"
    }
   ],
   "source": [
    "plot_interp(np.linspace(np.pi/2, np.pi, 10))"
   ]
  },
  {
   "cell_type": "markdown",
   "metadata": {},
   "source": [
    "### II.2. \n",
    "\n",
    "Repeat the previous task using the Chebyshev nodes. Compare the quality of interpolation on a uniform mesh and Chebyshev nodes for $m=3$.\n",
    "\n",
    "(20% of the total grade)"
   ]
  },
  {
   "cell_type": "code",
   "execution_count": 41,
   "metadata": {},
   "outputs": [
    {
     "data": {
      "image/png": "[encoded data removed]",
      "text/plain": [
       "<Figure size 432x288 with 1 Axes>"
      ]
     },
     "metadata": {
      "needs_background": "light"
     },
     "output_type": "display_data"
    }
   ],
   "source": [
    "plot_interp(np.pi/4*np.cos((2*np.arange(10)+1)*np.pi/20)+3*np.pi/4)"
   ]
  },
  {
   "cell_type": "code",
   "execution_count": null,
   "metadata": {},
   "outputs": [],
   "source": []
  }
 ],
 "metadata": {
  "kernelspec": {
   "display_name": "Python 3",
   "language": "python",
   "name": "python3"
  },
  "language_info": {
   "codemirror_mode": {
    "name": "ipython",
    "version": 3
   },
   "file_extension": ".py",
   "mimetype": "text/x-python",
   "name": "python",
   "nbconvert_exporter": "python",
   "pygments_lexer": "ipython3",
   "version": "3.7.1"
  }
 },
 "nbformat": 4,
 "nbformat_minor": 2
}
