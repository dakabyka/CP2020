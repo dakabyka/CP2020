{
 "cells": [
  {
   "cell_type": "markdown",
   "metadata": {},
   "source": [
    "# I. $LU$ factorization of a square matrix"
   ]
  },
  {
   "cell_type": "markdown",
   "metadata": {},
   "source": [
    "Consider a simple naive implementation of the LU decomposition. \n",
    "\n",
    "Note that we're using the `numpy` arrays to represent matrices [do **not** use `np.matrix`]."
   ]
  },
  {
   "cell_type": "code",
   "execution_count": 44,
   "metadata": {},
   "outputs": [],
   "source": [
    "import numpy as np\n",
    "\n",
    "def diy_lu(a):\n",
    "    \"\"\"Construct the LU decomposition of the input matrix.\n",
    "    \n",
    "    Naive LU decomposition: work column by column, accumulate elementary triangular matrices.\n",
    "    No pivoting.\n",
    "    \"\"\"\n",
    "    N = a.shape[0]\n",
    "    \n",
    "    u = a.copy()\n",
    "    L = np.eye(N)\n",
    "    for j in range(N-1):\n",
    "        lam = np.eye(N)\n",
    "        gamma = u[j+1:, j] / u[j, j]\n",
    "        lam[j+1:, j] = -gamma\n",
    "        u = lam @ u\n",
    "\n",
    "        lam[j+1:, j] = gamma\n",
    "        L = L @ lam\n",
    "    return L, u"
   ]
  },
  {
   "cell_type": "code",
   "execution_count": 45,
   "metadata": {},
   "outputs": [
    {
     "data": {
      "text/plain": [
       "6"
      ]
     },
     "execution_count": 45,
     "metadata": {},
     "output_type": "execute_result"
    }
   ],
   "source": [
    "# Now, generate a full rank matrix and test the naive implementation\n",
    "\n",
    "import numpy as np\n",
    "\n",
    "N = 6\n",
    "a = np.zeros((N, N), dtype=float)\n",
    "for i in range(N):\n",
    "    for j in range(N):\n",
    "        a[i, j] = 3. / (0.6*i*j + 1)\n",
    "\n",
    "np.linalg.matrix_rank(a)"
   ]
  },
  {
   "cell_type": "code",
   "execution_count": 46,
   "metadata": {},
   "outputs": [],
   "source": [
    "# Tweak the printing of floating-point numbers, for clarity\n",
    "np.set_printoptions(precision=3)"
   ]
  },
  {
   "cell_type": "code",
   "execution_count": 47,
   "metadata": {},
   "outputs": [
    {
     "data": {
      "text/plain": [
       "array([[3.   , 3.   , 3.   , 3.   , 3.   , 3.   ],\n",
       "       [3.   , 1.875, 1.364, 1.071, 0.882, 0.75 ],\n",
       "       [3.   , 1.364, 0.882, 0.652, 0.517, 0.429],\n",
       "       [3.   , 1.071, 0.652, 0.469, 0.366, 0.3  ],\n",
       "       [3.   , 0.882, 0.517, 0.366, 0.283, 0.231],\n",
       "       [3.   , 0.75 , 0.429, 0.3  , 0.231, 0.188]])"
      ]
     },
     "execution_count": 47,
     "metadata": {},
     "output_type": "execute_result"
    }
   ],
   "source": [
    "a"
   ]
  },
  {
   "cell_type": "code",
   "execution_count": 48,
   "metadata": {},
   "outputs": [
    {
     "name": "stdout",
     "output_type": "stream",
     "text": [
      "[[1.    0.    0.    0.    0.    0.   ]\n",
      " [1.    1.    0.    0.    0.    0.   ]\n",
      " [1.    1.455 1.    0.    0.    0.   ]\n",
      " [1.    1.714 1.742 1.    0.    0.   ]\n",
      " [1.    1.882 2.276 2.039 1.    0.   ]\n",
      " [1.    2.    2.671 2.944 2.354 1.   ]] \n",
      "\n",
      "[[ 3.000e+00  3.000e+00  3.000e+00  3.000e+00  3.000e+00  3.000e+00]\n",
      " [ 0.000e+00 -1.125e+00 -1.636e+00 -1.929e+00 -2.118e+00 -2.250e+00]\n",
      " [ 0.000e+00  0.000e+00  2.625e-01  4.574e-01  5.975e-01  7.013e-01]\n",
      " [ 0.000e+00  1.110e-16  0.000e+00 -2.197e-02 -4.480e-02 -6.469e-02]\n",
      " [ 0.000e+00 -2.819e-16  0.000e+00  0.000e+00  8.080e-04  1.902e-03]\n",
      " [ 0.000e+00  3.369e-16  0.000e+00 -1.541e-18  2.168e-19 -1.585e-05]] \n",
      "\n",
      "[[ 0.000e+00  0.000e+00  0.000e+00  0.000e+00  0.000e+00  0.000e+00]\n",
      " [ 0.000e+00  0.000e+00  0.000e+00  0.000e+00  0.000e+00  0.000e+00]\n",
      " [ 0.000e+00  0.000e+00  0.000e+00  2.220e-16 -1.110e-16 -1.665e-16]\n",
      " [ 0.000e+00  0.000e+00  2.220e-16 -5.551e-17 -1.665e-16 -1.665e-16]\n",
      " [ 0.000e+00  0.000e+00 -1.110e-16  2.776e-16 -2.776e-16  5.551e-17]\n",
      " [ 0.000e+00  0.000e+00 -1.665e-16 -1.665e-16  5.551e-17  0.000e+00]]\n"
     ]
    }
   ],
   "source": [
    "L, u = diy_lu(a)\n",
    "\n",
    "print(L, \"\\n\")\n",
    "print(u, \"\\n\")\n",
    "\n",
    "# Quick sanity check: L times U must equal the original matrix, up to floating-point errors.\n",
    "print(L@u - a)"
   ]
  },
  {
   "cell_type": "markdown",
   "metadata": {},
   "source": [
    "# II. The need for pivoting"
   ]
  },
  {
   "cell_type": "markdown",
   "metadata": {},
   "source": [
    "Let's tweak the matrix a little bit, we only change a single element:"
   ]
  },
  {
   "cell_type": "code",
   "execution_count": 49,
   "metadata": {},
   "outputs": [],
   "source": [
    "a1 = a.copy()\n",
    "a1[1, 1] = 3"
   ]
  },
  {
   "cell_type": "markdown",
   "metadata": {},
   "source": [
    "Resulting matix still has full rank, but the naive LU routine breaks down."
   ]
  },
  {
   "cell_type": "code",
   "execution_count": 50,
   "metadata": {},
   "outputs": [
    {
     "data": {
      "text/plain": [
       "6"
      ]
     },
     "execution_count": 50,
     "metadata": {},
     "output_type": "execute_result"
    }
   ],
   "source": [
    "np.linalg.matrix_rank(a1)"
   ]
  },
  {
   "cell_type": "code",
   "execution_count": 51,
   "metadata": {},
   "outputs": [
    {
     "name": "stdout",
     "output_type": "stream",
     "text": [
      "[[nan nan nan nan nan nan]\n",
      " [nan nan nan nan nan nan]\n",
      " [nan nan nan nan nan nan]\n",
      " [nan nan nan nan nan nan]\n",
      " [nan nan nan nan nan nan]\n",
      " [nan nan nan nan nan nan]] [[nan nan nan nan nan nan]\n",
      " [nan nan nan nan nan nan]\n",
      " [nan nan nan nan nan nan]\n",
      " [nan nan nan nan nan nan]\n",
      " [nan nan nan nan nan nan]\n",
      " [nan nan nan nan nan nan]]\n"
     ]
    },
    {
     "name": "stderr",
     "output_type": "stream",
     "text": [
      "C:\\Users\\User\\Anaconda3\\lib\\site-packages\\ipykernel_launcher.py:15: RuntimeWarning: divide by zero encountered in true_divide\n",
      "  from ipykernel import kernelapp as app\n",
      "C:\\Users\\User\\Anaconda3\\lib\\site-packages\\ipykernel_launcher.py:15: RuntimeWarning: invalid value encountered in true_divide\n",
      "  from ipykernel import kernelapp as app\n"
     ]
    }
   ],
   "source": [
    "l, u = diy_lu(a1)\n",
    "\n",
    "print(l, u)"
   ]
  },
  {
   "cell_type": "markdown",
   "metadata": {},
   "source": [
    "### Test II.1\n",
    "\n",
    "For a naive LU decomposition to work, all leading minors of a matrix should be non-zero. Check if this requirement is satisfied for the two matrices `a` and `a1`.\n",
    "\n",
    "(20% of the grade)"
   ]
  },
  {
   "cell_type": "code",
   "execution_count": 52,
   "metadata": {},
   "outputs": [],
   "source": [
    "def non_zero_minor(a):\n",
    "    N = a.shape[0]\n",
    "    c = 0\n",
    "    for k in range(N+1):\n",
    "        b = np.zeros((k, k), dtype=float) #матрица первых k строк и k столбцов\n",
    "        for i in range(k):\n",
    "            for j in range(k):\n",
    "                b[i,j] = a[i,j]\n",
    "        if np.linalg.det(b) == 0: #проверяем равенство нулю\n",
    "            с = c + 1\n",
    "            return 'There is zero minor'\n",
    "    if c == 0:\n",
    "        return 'All leading minors are non-zero'"
   ]
  },
  {
   "cell_type": "markdown",
   "metadata": {},
   "source": [
    "Проверка для матриц `a` и `a1`:"
   ]
  },
  {
   "cell_type": "code",
   "execution_count": 53,
   "metadata": {},
   "outputs": [
    {
     "data": {
      "text/plain": [
       "'All leading minors are non-zero'"
      ]
     },
     "execution_count": 53,
     "metadata": {},
     "output_type": "execute_result"
    }
   ],
   "source": [
    "non_zero_minor(a)"
   ]
  },
  {
   "cell_type": "code",
   "execution_count": 54,
   "metadata": {},
   "outputs": [
    {
     "data": {
      "text/plain": [
       "'There is zero minor'"
      ]
     },
     "execution_count": 54,
     "metadata": {},
     "output_type": "execute_result"
    }
   ],
   "source": [
    "non_zero_minor(a1)"
   ]
  },
  {
   "cell_type": "markdown",
   "metadata": {},
   "source": [
    "### Test II.2\n",
    "\n",
    "Modify the `diy_lu` routine to implement column pivoting. Keep track of pivots, you can either construct a permutation matrix, or a swap array (your choice).\n",
    "\n",
    "(40% of the grade)\n",
    "\n",
    "Implement a function to reconstruct the original matrix from a decompositon. Test your routines on the matrices `a` and `a1`.\n",
    "\n",
    "(40% of the grade)"
   ]
  },
  {
   "cell_type": "code",
   "execution_count": 55,
   "metadata": {},
   "outputs": [],
   "source": [
    "def diy_lu_pivot(a):\n",
    "    \n",
    "    N = a.shape[0]\n",
    "    u = a.copy()\n",
    "    L = np.eye(N)\n",
    "    P = np.eye(N)\n",
    "    \n",
    "    for j in range(N-1):\n",
    "        \n",
    "        #Поиск максимального элемента столбца (partial pivoting)\n",
    "        c = np.zeros((1, N-j))\n",
    "        for i in range(N-j):\n",
    "            c[0,i] = u[i+j,j] #Берем столбец с номером j\n",
    "        i_max = np.argmax(abs(c)) + j #Номер строки с максимальным элементом\n",
    "        \n",
    "        #Составляем матрицу перестановки для шага j\n",
    "        p = np.eye(N)\n",
    "        p[j], p[i_max] = p[i_max], p[j].copy() #строка с максимальным элементом меняется на верхнюю рассматриваемую\n",
    "        \n",
    "        u = p@u\n",
    "\n",
    "        P = p@P #Собираем матрицу перестановки\n",
    "\n",
    "        lam = np.eye(N)\n",
    "        gamma = u[j+1:, j] / u[j, j]\n",
    "        lam[j+1:, j] = -gamma\n",
    "        u = lam @ u\n",
    "\n",
    "        lam[j+1:, j] = gamma\n",
    "        L = L @ lam \n",
    "        \n",
    "    return P, L, u"
   ]
  },
  {
   "cell_type": "code",
   "execution_count": 56,
   "metadata": {},
   "outputs": [
    {
     "name": "stdout",
     "output_type": "stream",
     "text": [
      "[[1. 0. 0. 0. 0. 0.]\n",
      " [0. 0. 0. 0. 0. 1.]\n",
      " [0. 1. 0. 0. 0. 0.]\n",
      " [0. 0. 1. 0. 0. 0.]\n",
      " [0. 0. 0. 1. 0. 0.]\n",
      " [0. 0. 0. 0. 1. 0.]] \n",
      "\n",
      "[[1.    0.    0.    0.    0.    0.   ]\n",
      " [1.    1.    0.    0.    0.    0.   ]\n",
      " [1.    0.727 1.    0.    0.    0.   ]\n",
      " [1.    0.857 0.41  1.    0.    0.   ]\n",
      " [1.    0.941 0.178 0.426 1.    0.   ]\n",
      " [1.    0.5   0.706 0.835 0.789 1.   ]] \n",
      "\n",
      "[[ 3.000e+00  3.000e+00  3.000e+00  3.000e+00  3.000e+00  3.000e+00]\n",
      " [ 0.000e+00 -2.250e+00 -2.571e+00 -2.700e+00 -2.769e+00 -2.812e+00]\n",
      " [ 0.000e+00  0.000e+00 -3.506e-01 -5.786e-01 -7.330e-01 -8.438e-01]\n",
      " [ 0.000e+00  0.000e+00  2.776e-17  2.421e-02  4.866e-02  6.961e-02]\n",
      " [ 0.000e+00  1.110e-16 -2.317e-17 -1.999e-19 -6.462e-04 -1.516e-03]\n",
      " [ 0.000e+00 -1.431e-16  6.463e-18  1.577e-19  0.000e+00  6.730e-06]] \n",
      "\n",
      "[[ 0.000e+00  0.000e+00  0.000e+00  0.000e+00  0.000e+00  0.000e+00]\n",
      " [ 0.000e+00  0.000e+00 -1.665e-16 -1.665e-16  5.551e-17  0.000e+00]\n",
      " [ 0.000e+00 -5.114e-01 -5.844e-01 -6.136e-01 -6.294e-01 -6.392e-01]\n",
      " [ 0.000e+00 -2.922e-01 -2.302e-01 -1.794e-01 -1.427e-01 -1.156e-01]\n",
      " [ 0.000e+00 -1.891e-01 -1.349e-01 -1.029e-01 -8.297e-02 -6.956e-02]\n",
      " [ 0.000e+00  9.926e-01  9.495e-01  8.960e-01  8.550e-01  8.243e-01]]\n"
     ]
    }
   ],
   "source": [
    "# Разложение для матрицы а\n",
    "P, L, u = diy_lu_pivot(a)\n",
    "\n",
    "print(P, \"\\n\")\n",
    "print(L, \"\\n\")\n",
    "print(u, \"\\n\")\n",
    "\n",
    "print(L@u - P@a)"
   ]
  },
  {
   "cell_type": "code",
   "execution_count": 57,
   "metadata": {},
   "outputs": [
    {
     "name": "stdout",
     "output_type": "stream",
     "text": [
      "[[1. 0. 0. 0. 0. 0.]\n",
      " [0. 0. 0. 0. 0. 1.]\n",
      " [0. 1. 0. 0. 0. 0.]\n",
      " [0. 0. 1. 0. 0. 0.]\n",
      " [0. 0. 0. 1. 0. 0.]\n",
      " [0. 0. 0. 0. 1. 0.]] \n",
      "\n",
      "[[1.    0.    0.    0.    0.    0.   ]\n",
      " [1.    1.    0.    0.    0.    0.   ]\n",
      " [1.    0.727 1.    0.    0.    0.   ]\n",
      " [1.    0.857 0.088 1.    0.    0.   ]\n",
      " [1.    0.941 0.038 0.208 1.    0.   ]\n",
      " [1.    0.    0.151 0.514 0.641 1.   ]] \n",
      "\n",
      "[[ 3.000e+00  3.000e+00  3.000e+00  3.000e+00  3.000e+00  3.000e+00]\n",
      " [ 0.000e+00 -2.250e+00 -2.571e+00 -2.700e+00 -2.769e+00 -2.812e+00]\n",
      " [ 0.000e+00  0.000e+00 -1.636e+00 -1.929e+00 -2.118e+00 -2.250e+00]\n",
      " [ 0.000e+00  0.000e+00  2.776e-17 -9.247e-02 -1.485e-01 -1.856e-01]\n",
      " [ 0.000e+00  1.110e-16 -1.427e-17 -4.160e-18  1.841e-03  3.821e-03]\n",
      " [ 0.000e+00 -1.267e-16  3.391e-18  2.669e-18  0.000e+00 -1.233e-05]] \n",
      "\n",
      "[[ 0.000e+00  0.000e+00  0.000e+00  0.000e+00  0.000e+00  0.000e+00]\n",
      " [ 0.000e+00  0.000e+00 -1.665e-16 -1.665e-16  5.551e-17  0.000e+00]\n",
      " [ 0.000e+00 -1.636e+00 -1.870e+00 -1.964e+00 -2.014e+00 -2.045e+00]\n",
      " [ 0.000e+00 -2.922e-01 -2.302e-01 -2.283e-01 -2.253e-01 -2.226e-01]\n",
      " [ 0.000e+00 -1.891e-01 -1.349e-01 -1.029e-01 -8.217e-02 -6.785e-02]\n",
      " [ 0.000e+00  2.118e+00  2.235e+00  2.295e+00  2.322e+00  2.336e+00]]\n"
     ]
    }
   ],
   "source": [
    "# Разложение для матрицы а1\n",
    "P, L, u = diy_lu_pivot(a1)\n",
    "\n",
    "print(P, \"\\n\")\n",
    "print(L, \"\\n\")\n",
    "print(u, \"\\n\")\n",
    "\n",
    "print(L@u - P@a1)"
   ]
  },
  {
   "cell_type": "code",
   "execution_count": 58,
   "metadata": {},
   "outputs": [],
   "source": [
    "def a_from_LUP(P,L,u):\n",
    "    return np.linalg.inv(P)@L@u"
   ]
  },
  {
   "cell_type": "code",
   "execution_count": 59,
   "metadata": {},
   "outputs": [
    {
     "name": "stdout",
     "output_type": "stream",
     "text": [
      "[[3.    3.    3.    3.    3.    3.   ]\n",
      " [3.    1.364 0.779 0.458 0.253 0.111]\n",
      " [3.    1.071 0.652 0.473 0.375 0.313]\n",
      " [3.    0.882 0.517 0.366 0.283 0.23 ]\n",
      " [3.    1.875 1.467 1.262 1.138 1.055]\n",
      " [3.    0.75  0.429 0.3   0.231 0.188]]\n",
      "[[ 0.000e+00  0.000e+00  0.000e+00  0.000e+00  0.000e+00  0.000e+00]\n",
      " [ 0.000e+00 -5.114e-01 -5.844e-01 -6.136e-01 -6.294e-01 -6.392e-01]\n",
      " [ 0.000e+00 -2.922e-01 -2.302e-01 -1.794e-01 -1.427e-01 -1.156e-01]\n",
      " [ 0.000e+00 -1.891e-01 -1.349e-01 -1.029e-01 -8.297e-02 -6.956e-02]\n",
      " [ 0.000e+00  9.926e-01  9.495e-01  8.960e-01  8.550e-01  8.243e-01]\n",
      " [ 0.000e+00  0.000e+00 -1.665e-16 -1.665e-16  5.551e-17  0.000e+00]]\n"
     ]
    }
   ],
   "source": [
    "P, L, u = diy_lu_pivot(a)\n",
    "b = a_from_LUP(P,L,u)\n",
    "print(b)\n",
    "print(b-a)"
   ]
  },
  {
   "cell_type": "code",
   "execution_count": 60,
   "metadata": {},
   "outputs": [
    {
     "name": "stdout",
     "output_type": "stream",
     "text": [
      "[[ 3.     3.     3.     3.     3.     3.   ]\n",
      " [ 3.     1.364 -0.506 -0.892 -1.132 -1.295]\n",
      " [ 3.     1.071  0.652  0.424  0.292  0.206]\n",
      " [ 3.     0.882  0.517  0.366  0.284  0.232]\n",
      " [ 3.     3.     2.752  2.661  2.605  2.567]\n",
      " [ 3.     0.75   0.429  0.3    0.231  0.188]]\n",
      "[[ 0.000e+00  0.000e+00  0.000e+00  0.000e+00  0.000e+00  0.000e+00]\n",
      " [ 0.000e+00 -1.636e+00 -1.870e+00 -1.964e+00 -2.014e+00 -2.045e+00]\n",
      " [ 0.000e+00 -2.922e-01 -2.302e-01 -2.283e-01 -2.253e-01 -2.226e-01]\n",
      " [ 0.000e+00 -1.891e-01 -1.349e-01 -1.029e-01 -8.217e-02 -6.785e-02]\n",
      " [ 0.000e+00  2.118e+00  2.235e+00  2.295e+00  2.322e+00  2.336e+00]\n",
      " [ 0.000e+00  0.000e+00 -1.665e-16 -1.665e-16  5.551e-17  0.000e+00]]\n"
     ]
    }
   ],
   "source": [
    "P1, L1, u1 = diy_lu_pivot(a1)\n",
    "b1 = a_from_LUP(P1,L1,u1)\n",
    "print(b1)\n",
    "print(b1-a1)"
   ]
  }
 ],
 "metadata": {
  "kernelspec": {
   "display_name": "Python 3",
   "language": "python",
   "name": "python3"
  },
  "language_info": {
   "codemirror_mode": {
    "name": "ipython",
    "version": 3
   },
   "file_extension": ".py",
   "mimetype": "text/x-python",
   "name": "python",
   "nbconvert_exporter": "python",
   "pygments_lexer": "ipython3",
   "version": "3.7.1"
  }
 },
 "nbformat": 4,
 "nbformat_minor": 2
}
