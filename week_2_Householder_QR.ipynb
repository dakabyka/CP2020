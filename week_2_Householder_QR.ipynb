{
 "cells": [
  {
   "cell_type": "code",
   "execution_count": 3,
   "metadata": {},
   "outputs": [],
   "source": [
    "import numpy as np\n",
    "\n",
    "from numpy.testing import assert_allclose\n",
    "\n",
    "np.set_printoptions(precision=3)"
   ]
  },
  {
   "cell_type": "markdown",
   "metadata": {},
   "source": [
    "# Part I. Construct a Householder reflection of a vector."
   ]
  },
  {
   "cell_type": "markdown",
   "metadata": {},
   "source": [
    "Given a vector $\\mathbf{x}$, and a plane with a normal vector $\\mathbf{u}$, the Householder transformation reflects $\\mathbf{x}$ about the plane.\n",
    "\n",
    "The matrix of the Householder transformation is\n",
    "\n",
    "$$\n",
    "\\mathbf{H} = \\mathbf{1} - 2 \\mathbf{u} \\mathbf{u}^T\n",
    "$$\n",
    "\n",
    "Given two equal-length vectors $\\mathbf{x}$ and $\\mathbf{y}$, a rotation which brings $\\mathbf{x}$ to $\\mathbf{y}$ is a Householder transform with\n",
    "\n",
    "$$\n",
    "\\mathbf{u} = \\frac{\\mathbf{x} - \\mathbf{y}}{\\left|\\mathbf{x} - \\mathbf{y}\\right|}\n",
    "$$"
   ]
  },
  {
   "cell_type": "markdown",
   "metadata": {},
   "source": [
    "Write a function which rotates a given vector, $\\mathbf{x} = (x_1, \\dots, x_n)$ into $\\mathbf{y} = (\\left|\\mathbf{x}\\right|, 0, \\dots, 0)^T$ using a Householder transformation."
   ]
  },
  {
   "cell_type": "code",
   "execution_count": 4,
   "metadata": {},
   "outputs": [],
   "source": [
    "def householder(vec):\n",
    "    \"\"\"Construct a Householder reflection to zero out 2nd and further components of a vector.\n",
    "\n",
    "    Parameters\n",
    "    ----------\n",
    "    vec : array-like of floats, shape (n,)\n",
    "        Input vector\n",
    "    \n",
    "    Returns\n",
    "    -------\n",
    "    outvec : array of floats, shape (n,)\n",
    "        Transformed vector, with ``outvec[1:]==0`` and ``|outvec| == |vec|``\n",
    "    H : array of floats, shape (n, n)\n",
    "        Orthogonal matrix of the Householder reflection\n",
    "    \"\"\"\n",
    "    vec = np.asarray(vec, dtype=float)\n",
    "    if vec.ndim != 1:\n",
    "        raise ValueError(\"vec.ndim = %s, expected 1\" % vec.ndim)\n",
    "        \n",
    "    N = vec.shape[0] \n",
    "    \n",
    "    y = np.zeros((N,1), dtype=float)  #Вектор у, который должен получиться \n",
    "    y[0] = np.linalg.norm(vec) \n",
    "    \n",
    "    u = (vec - y.T) / np.linalg.norm(vec - y.T) #Вектор нормали и\n",
    "    \n",
    "    H = np.eye(N) - 2*u*u.T #Householder transformation\n",
    "    \n",
    "    return np.dot(vec, H), H"
   ]
  },
  {
   "cell_type": "code",
   "execution_count": 5,
   "metadata": {},
   "outputs": [
    {
     "data": {
      "text/plain": [
       "(array([ 3.742e+00,  0.000e+00, -1.110e-16]), array([[ 0.267,  0.535,  0.802],\n",
       "        [ 0.535,  0.61 , -0.585],\n",
       "        [ 0.802, -0.585,  0.123]]))"
      ]
     },
     "execution_count": 5,
     "metadata": {},
     "output_type": "execute_result"
    }
   ],
   "source": [
    "v = np.array([1, 2, 3])\n",
    "householder(v)"
   ]
  },
  {
   "cell_type": "markdown",
   "metadata": {},
   "source": [
    "Test your function using tests below:"
   ]
  },
  {
   "cell_type": "code",
   "execution_count": 6,
   "metadata": {},
   "outputs": [],
   "source": [
    "# Test I.1 (10% of the total grade).\n",
    "\n",
    "v = np.array([1, 2, 3])\n",
    "v1, h = householder(v)\n",
    "\n",
    "assert_allclose(np.dot(h, v1), v)\n",
    "assert_allclose(np.dot(h, v), v1)"
   ]
  },
  {
   "cell_type": "code",
   "execution_count": 7,
   "metadata": {},
   "outputs": [],
   "source": [
    "# Test I.2 (10% of the total grade).\n",
    "\n",
    "rndm = np.random.RandomState(1234)\n",
    "\n",
    "vec = rndm.uniform(size=7)\n",
    "v1, h = householder(vec)\n",
    "\n",
    "assert_allclose(np.dot(h, v1), vec)"
   ]
  },
  {
   "cell_type": "markdown",
   "metadata": {},
   "source": [
    "# Part II. Compute the $\\mathrm{QR}$ decomposition of a matrix.\n",
    "\n",
    "Given a rectangular $m\\times n$ matrix $\\mathbf{A}$, construct a Householder reflector matrix $\\mathbf{H}_1$ which transforms the first column of $\\mathbf{A}$ (and call the result $\\mathbf{A}^{(1)}$)\n",
    "\n",
    "$$\n",
    "\\mathbf{H}_1 \\mathbf{A} =%\n",
    "\\begin{pmatrix}\n",
    "\\times & \\times & \\times & \\dots & \\times \\\\\n",
    "0      & \\times & \\times & \\dots & \\times \\\\\n",
    "0      & \\times & \\times & \\dots & \\times \\\\\n",
    "&& \\dots&& \\\\\n",
    "0      & \\times & \\times & \\dots & \\times \\\\\n",
    "\\end{pmatrix}%\n",
    "\\equiv \\mathbf{A}^{(1)}\\;.\n",
    "$$\n",
    "\n",
    "Now consider the lower-right submatrix of $\\mathbf{A}^{(1)}$, and construct a Householder reflector which annihilates the second column of $\\mathbf{A}$:\n",
    "\n",
    "$$\n",
    "\\mathbf{H}_2 \\mathbf{A}^{(1)} =%\n",
    "\\begin{pmatrix}\n",
    "\\times & \\times & \\times & \\dots & \\times \\\\\n",
    "0      & \\times & \\times & \\dots & \\times \\\\\n",
    "0      & 0      & \\times & \\dots & \\times \\\\\n",
    "&& \\dots&& \\\\\n",
    "0      & 0      & \\times & \\dots & \\times \\\\\n",
    "\\end{pmatrix}%\n",
    "\\equiv \\mathbf{A}^{(2)} \\;.\n",
    "$$\n",
    "\n",
    "Repeating the process $n-1$ times, we obtain\n",
    "\n",
    "$$\n",
    "\\mathbf{H}_{n-1} \\cdots \\mathbf{H}_2 \\mathbf{H}_1 \\mathbf{A} = \\mathbf{R} \\;,\n",
    "$$\n",
    "\n",
    "with $\\mathbf{R}$ an upper triangular matrix. Since each $\\mathbf{H}_k$ is orthogonal, so is their product. The inverse of an orthogonal matrix is orthogonal. Hence the process generates the $\\mathrm{QR}$ decomposition of $\\mathbf{A}$. "
   ]
  },
  {
   "cell_type": "markdown",
   "metadata": {},
   "source": [
    "Write a function, which receives a recangular matrix, $A$, and returns the Q and R factors of the $QR$ factorization of $A$."
   ]
  },
  {
   "cell_type": "code",
   "execution_count": 8,
   "metadata": {},
   "outputs": [],
   "source": [
    "def qr_decomp(a):\n",
    "    \"\"\"Compute the QR decomposition of a matrix.\n",
    "    \n",
    "    Parameters\n",
    "    ----------\n",
    "    a : ndarray, shape(m, n)\n",
    "        The input matrix\n",
    "    \n",
    "    Returns\n",
    "    -------\n",
    "    q : ndarray, shape(m, m)\n",
    "        The orthogonal matrix\n",
    "    r : ndarray, shape(m, n)\n",
    "        The upper triangular matrix\n",
    "        \n",
    "    Examples\n",
    "    --------\n",
    "    >>> a = np.random.random(size=(3, 5))\n",
    "    >>> q, r = qr_decomp(a)\n",
    "    >>> np.assert_allclose(np.dot(q, r), a)\n",
    "    \n",
    "    \"\"\"\n",
    "    a1 = np.array(a, copy=True, dtype=float)\n",
    "    m, n = a1.shape\n",
    "    \n",
    "    Q = np.eye(m)\n",
    "    \n",
    "    # Рассматриваем случаи для разных прямоугольных матриц\n",
    "    if n > m:\n",
    "        k = m-1\n",
    "    else:\n",
    "        k = n\n",
    "     \n",
    "    #Срезаем столбцы матрицы для поворота\n",
    "    for i in range(k):\n",
    "        c = np.zeros(m-i)\n",
    "        for j in range(m-i):\n",
    "            c[j] = a1[i+j][i]\n",
    "           \n",
    "        #Повернутый вектор и матрица поворота размерности m-i\n",
    "        c, h = householder(c)\n",
    "        \n",
    "        #Возвращаем H нужную размерность\n",
    "        H = np.eye(m)\n",
    "        for j in range(m-i):\n",
    "            for s in range(m-i):\n",
    "                H[j+i,s+i] = h[j,s]\n",
    "        \n",
    "        #Применяем H к а1\n",
    "        a1 = H@a1\n",
    "        \n",
    "        #Собираем ортогональную матрицу\n",
    "        Q = Q@H\n",
    "        \n",
    "    return Q, a1"
   ]
  },
  {
   "cell_type": "code",
   "execution_count": 9,
   "metadata": {},
   "outputs": [],
   "source": [
    "a = np.random.random(size=(3, 5))\n",
    "q, r = qr_decomp(a)\n",
    "assert_allclose(np.dot(q, r), a)"
   ]
  },
  {
   "cell_type": "code",
   "execution_count": 10,
   "metadata": {},
   "outputs": [],
   "source": [
    "# Might want to turn this on for prettier printing: zeros instead of `1e-16` etc\n",
    "\n",
    "np.set_printoptions(suppress=True)"
   ]
  },
  {
   "cell_type": "code",
   "execution_count": 11,
   "metadata": {},
   "outputs": [],
   "source": [
    "# Test II.1 (20% of the total grade)\n",
    "\n",
    "rndm = np.random.RandomState(1234)\n",
    "a = rndm.uniform(size=(5, 3))\n",
    "q, r = qr_decomp(a)\n",
    "\n",
    "# test that Q is indeed orthogonal\n",
    "assert_allclose(np.dot(q, q.T), np.eye(5), atol=1e-10)\n",
    "\n",
    "# test the decomposition itself\n",
    "assert_allclose(np.dot(q, r), a)"
   ]
  },
  {
   "cell_type": "markdown",
   "metadata": {},
   "source": [
    "Now compare your decompositions to the library function (which actually wraps the corresponding LAPACK functions)"
   ]
  },
  {
   "cell_type": "code",
   "execution_count": 12,
   "metadata": {},
   "outputs": [],
   "source": [
    "from scipy.linalg import qr\n",
    "qq, rr = qr(a)\n",
    "\n",
    "assert_allclose(np.dot(qq, rr), a)"
   ]
  },
  {
   "cell_type": "markdown",
   "metadata": {},
   "source": [
    "Check if your `q` and `r` agree with `qq` and `rr`. Explain."
   ]
  },
  {
   "cell_type": "markdown",
   "metadata": {},
   "source": [
    "*Enter your explanation here* (10% of the total grade, peer-graded)"
   ]
  },
  {
   "cell_type": "code",
   "execution_count": 13,
   "metadata": {},
   "outputs": [
    {
     "name": "stdout",
     "output_type": "stream",
     "text": [
      "[[ 0.137  0.536 -0.094  0.77   0.305]\n",
      " [ 0.56   0.094 -0.533  0.018 -0.627]\n",
      " [ 0.197  0.659  0.601 -0.324 -0.246]\n",
      " [ 0.625 -0.504  0.521  0.285  0.048]\n",
      " [ 0.488  0.122 -0.272 -0.47   0.672]] \n",
      "\n",
      "[[-0.137  0.536  0.094  0.662 -0.497]\n",
      " [-0.56   0.094  0.533 -0.525 -0.343]\n",
      " [-0.197  0.659 -0.601 -0.379  0.148]\n",
      " [-0.625 -0.504 -0.521  0.19  -0.218]\n",
      " [-0.488  0.122  0.272  0.328  0.752]] \n",
      "\n"
     ]
    }
   ],
   "source": [
    "print(q, \"\\n\")\n",
    "print(qq, \"\\n\")"
   ]
  },
  {
   "cell_type": "code",
   "execution_count": 14,
   "metadata": {},
   "outputs": [
    {
     "name": "stdout",
     "output_type": "stream",
     "text": [
      "[[ 1.402  1.251  0.895]\n",
      " [ 0.     0.842  0.684]\n",
      " [ 0.    -0.     0.55 ]\n",
      " [ 0.     0.     0.   ]\n",
      " [ 0.    -0.    -0.   ]] \n",
      "\n",
      "[[-1.402 -1.251 -0.895]\n",
      " [ 0.     0.842  0.684]\n",
      " [ 0.     0.    -0.55 ]\n",
      " [ 0.     0.     0.   ]\n",
      " [ 0.     0.     0.   ]] \n",
      "\n"
     ]
    }
   ],
   "source": [
    "print(r, \"\\n\")\n",
    "print(rr, \"\\n\")"
   ]
  },
  {
   "cell_type": "code",
   "execution_count": 15,
   "metadata": {},
   "outputs": [],
   "source": [
    "assert_allclose(qq@rr, q@r)"
   ]
  },
  {
   "cell_type": "markdown",
   "metadata": {},
   "source": [
    "Матрицы `r` и `rr` отличаются только знаками (по строкам).\n",
    "\n",
    "Посмотрим на левые квадратные части матриц `q` и `qq` (блоки $n\\times n$): они тоже отличаются только знаками (по столбцам). \n",
    "\n",
    "Заметим, что при перемножении `q` на `r` и `qq` на `rr` эта разница в знаках не меняет получаемую матрицу. Оставшиеся же правые блоки `q` и `qq` матриц совсем разные, но они умножаются на нижние нулевые блоки матриц `r` и `rr`, так что это различие значения не имеет.\n",
    "\n",
    "Таким образом, $QR$ разложение неединтсвенно."
   ]
  },
  {
   "cell_type": "markdown",
   "metadata": {},
   "source": [
    "# Part III. Avoid forming Householder matrices explicitly."
   ]
  },
  {
   "cell_type": "markdown",
   "metadata": {},
   "source": [
    "Note the special structure of the Householder matrices: A reflector $\\mathbf{H}$ is completely specified by a reflection vector $\\mathbf{u}$. Also note that the computational cost of applying a reflector to a matrix strongly depends on the order of operations:\n",
    "\n",
    "$$\n",
    "\\left( \\mathbf{u} \\mathbf{u}^T \\right) \\mathbf{A}  \\qquad \\textrm{is } O(m^2 n)\\;,\n",
    "$$\n",
    "while\n",
    "$$\n",
    "\\mathbf{u} \\left( \\mathbf{u}^T \\mathbf{A} \\right) \\qquad \\textrm{is } O(mn)\n",
    "$$\n",
    "\n",
    "Thus, it seems to make sense to *avoid* forming the $\\mathbf{H}$ matrices. Instead, one stores the reflection vectors, $\\mathbf{u}$, themselves, and provides a way of multiplying an arbitrary matrix by $\\mathbf{Q}^T$, e.g., as a standalone function (or a class)."
   ]
  },
  {
   "cell_type": "markdown",
   "metadata": {},
   "source": [
    "Write a function which constructs the `QR` decomposition of a matrix *without ever forming the* $\\mathbf{H}$ matrices, and returns the $\\mathbf{R}$ matrix and reflection vectors. \n",
    "\n",
    "Write a second function, which uses reflection vectors to multiply a matrix with $\\mathbf{Q}^T$. Make sure to include enough comments for a marker to follow your implementation, and add tests. \n",
    "\n",
    "(Peer-graded, 40% of the total grade)"
   ]
  },
  {
   "cell_type": "code",
   "execution_count": 16,
   "metadata": {},
   "outputs": [],
   "source": [
    "def qr_dec(a): #Выдает матрицу R и список векторов u\n",
    "    a1 = np.array(a, copy=True, dtype=float)\n",
    "    m, n = a1.shape\n",
    "    \n",
    "    reflections = []\n",
    "    \n",
    "        # Рассматриваем случаи для разных прямоугольных матриц\n",
    "    if n > m:\n",
    "        k = m-1\n",
    "    else:\n",
    "        k = n\n",
    "    #print(a1) \n",
    "    #Срезаем столбцы матрицы для поворота\n",
    "    for i in range(k):\n",
    "        c = np.zeros(m-i)\n",
    "        for j in range(m-i):\n",
    "            c[j] = a1[i+j][i]\n",
    "         \n",
    "        N = c.shape[0] \n",
    "    \n",
    "        y = np.zeros((N,1), dtype=float)  #Вектор у, который должен получиться \n",
    "        y[0] = np.linalg.norm(c) \n",
    "    \n",
    "        u = (c - y.T) / np.linalg.norm(c - y.T) #Вектор нормали и\n",
    "        \n",
    "        #Вернем ему размерность m\n",
    "        u1 = np.zeros(m)\n",
    "        for j in range(m-i):\n",
    "            u1[i+j] = u[0][j]\n",
    "        \n",
    "        reflections.append(u1) #Сохранили вектор нормали\n",
    "        \n",
    "        #Матрица R\n",
    "        a1 = a1 - 2*np.outer(u1,np.dot(u1,a1)) #Вот здесь сначала умножается u^T на A, потом к ним домножается u\n",
    "        \n",
    "    return a1, reflections"
   ]
  },
  {
   "cell_type": "code",
   "execution_count": 17,
   "metadata": {},
   "outputs": [
    {
     "data": {
      "text/plain": [
       "(array([[ 1.402,  1.251,  0.895],\n",
       "        [ 0.   ,  0.842,  0.684],\n",
       "        [-0.   ,  0.   ,  0.55 ],\n",
       "        [ 0.   ,  0.   ,  0.   ],\n",
       "        [ 0.   ,  0.   , -0.   ]]),\n",
       " [array([-0.657,  0.426,  0.15 ,  0.476,  0.371]),\n",
       "  array([ 0.   , -0.528,  0.74 , -0.11 ,  0.402]),\n",
       "  array([ 0.   ,  0.   , -0.791,  0.365, -0.491])])"
      ]
     },
     "execution_count": 17,
     "metadata": {},
     "output_type": "execute_result"
    }
   ],
   "source": [
    "qr_dec(a)"
   ]
  },
  {
   "cell_type": "code",
   "execution_count": 22,
   "metadata": {},
   "outputs": [],
   "source": [
    "def Q_T(a, reflections): #Домножает матрицу на Q.T, используя векторы нормали\n",
    "    a1 = np.array(a, copy=True, dtype=float)\n",
    "    for i in range(len(reflections)):\n",
    "        u = reflections[i]\n",
    "        a1 = a1 - 2*np.outer(u,np.dot(u,a1)) #Та же логика с порядком умножения, что и в предыдущем методе\n",
    "    return a1"
   ]
  },
  {
   "cell_type": "code",
   "execution_count": 23,
   "metadata": {},
   "outputs": [
    {
     "data": {
      "text/plain": [
       "array([[ 1.402,  1.251,  0.895],\n",
       "       [ 0.   ,  0.842,  0.684],\n",
       "       [-0.   ,  0.   ,  0.55 ],\n",
       "       [ 0.   ,  0.   ,  0.   ],\n",
       "       [ 0.   ,  0.   , -0.   ]])"
      ]
     },
     "execution_count": 23,
     "metadata": {},
     "output_type": "execute_result"
    }
   ],
   "source": [
    "R, reflections = qr_dec(a)\n",
    "Q_T(a, reflections)"
   ]
  },
  {
   "cell_type": "markdown",
   "metadata": {},
   "source": [
    "Тесты:"
   ]
  },
  {
   "cell_type": "code",
   "execution_count": 24,
   "metadata": {},
   "outputs": [],
   "source": [
    "# Test III.1\n",
    "a = np.random.random(size=(3, 5))\n",
    "R, reflections = qr_dec(a)\n",
    "R1 = Q_T(a, reflections)\n",
    "\n",
    "assert_allclose(R, R1)"
   ]
  },
  {
   "cell_type": "code",
   "execution_count": 25,
   "metadata": {},
   "outputs": [],
   "source": [
    "# Test III.2\n",
    "rndm = np.random.RandomState(1234)\n",
    "a = rndm.uniform(size=(5, 3))\n",
    "R, reflections = qr_dec(a)\n",
    "R1 = Q_T(a, reflections)\n",
    "\n",
    "assert_allclose(R, R1)"
   ]
  }
 ],
 "metadata": {
  "kernelspec": {
   "display_name": "Python 3",
   "language": "python",
   "name": "python3"
  },
  "language_info": {
   "codemirror_mode": {
    "name": "ipython",
    "version": 3
   },
   "file_extension": ".py",
   "mimetype": "text/x-python",
   "name": "python",
   "nbconvert_exporter": "python",
   "pygments_lexer": "ipython3",
   "version": "3.7.1"
  }
 },
 "nbformat": 4,
 "nbformat_minor": 2
}
