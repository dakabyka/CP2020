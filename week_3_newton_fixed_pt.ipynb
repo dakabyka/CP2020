{
 "cells": [
  {
   "cell_type": "markdown",
   "metadata": {},
   "source": [
    "# Part I. Root-finding. Newton's iteration."
   ]
  },
  {
   "cell_type": "markdown",
   "metadata": {},
   "source": [
    "Write a function which performs Newton's iteration for a given function $f(x)$ with known derivative $f'(x)$. Your function should find the root of $f(x)$ with a predefined absolute accuracy $\\epsilon$. "
   ]
  },
  {
   "cell_type": "code",
   "execution_count": 1,
   "metadata": {},
   "outputs": [],
   "source": [
    "def newton_iteration(f, fder, x0, eps=1e-5, maxiter=1000):\n",
    "    \"\"\"Find a root of $f(x) = 0$ via Newton's iteration starting from x0.\n",
    "    \n",
    "    Parameters\n",
    "    ----------\n",
    "    f : callable\n",
    "        The function to find a root of.\n",
    "    fder : callable\n",
    "        The derivative of `f`.\n",
    "    x0 : float\n",
    "        Initial value for the Newton's iteration.\n",
    "    eps : float\n",
    "        The target accuracy. \n",
    "        The iteration stops when the distance between successive iterates is below `eps`.\n",
    "        Default is 1e-5.\n",
    "    maxiter : int\n",
    "        The maximum number of iterations (default is 1000.)\n",
    "        Iterations terminate if the number of iterations exceeds `maxiter`.\n",
    "        This parameter is only needed to avoid infinite loops if iterations wander off.\n",
    "        \n",
    "    Returns\n",
    "    -------\n",
    "    x : float\n",
    "        The estimate for the root.\n",
    "    niter : int\n",
    "        The number of iterations.\n",
    "    \"\"\"\n",
    "    x = 0\n",
    "    x_n = x0\n",
    "    niter = 0\n",
    "    while (abs(x - x_n) > eps) and (niter < maxiter):\n",
    "        x = x_n\n",
    "        x_n = x - f(x)/fder(x)\n",
    "        niter += 1\n",
    "    return x_n, niter"
   ]
  },
  {
   "cell_type": "markdown",
   "metadata": {},
   "source": [
    "### Test I.1 \n",
    "\n",
    "Test your implementation on a simple example, $f(x) = x^2 - 1$ or similar. (20% of the total grade)"
   ]
  },
  {
   "cell_type": "code",
   "execution_count": 2,
   "metadata": {
    "scrolled": true
   },
   "outputs": [
    {
     "name": "stdout",
     "output_type": "stream",
     "text": [
      "root: -1.000000000000001 ,  iterations: 5\n"
     ]
    }
   ],
   "source": [
    "r, n = newton_iteration(lambda x: x**2 - 1, lambda x: 2*x, x0 = -0.5) #Нашли первый корень\n",
    "print(\"root:\", r, ',',' iterations:', n)"
   ]
  },
  {
   "cell_type": "code",
   "execution_count": 3,
   "metadata": {},
   "outputs": [
    {
     "name": "stdout",
     "output_type": "stream",
     "text": [
      "root: 1.0000000000139897 ,  iterations: 7\n"
     ]
    }
   ],
   "source": [
    "r, n = newton_iteration(lambda x: x**2 - 1, lambda x: 2*x, x0 = 10) #Нашли второй корень\n",
    "print(\"root:\", r, ',',' iterations:', n)"
   ]
  },
  {
   "cell_type": "markdown",
   "metadata": {},
   "source": [
    "Найдем корень функции $f(x) = x^3 - 1$"
   ]
  },
  {
   "cell_type": "code",
   "execution_count": 4,
   "metadata": {},
   "outputs": [
    {
     "name": "stdout",
     "output_type": "stream",
     "text": [
      "root: 1.0000000000000004 ,  iterations: 10\n"
     ]
    }
   ],
   "source": [
    "r, n = newton_iteration(lambda x: x**3 - 1, lambda x: 3*x**2, x0 = 10)\n",
    "print(\"root:\", r, ',',' iterations:', n)"
   ]
  },
  {
   "cell_type": "markdown",
   "metadata": {},
   "source": [
    "### Test I.2\n",
    "\n",
    "Now consider a function which has a multiple root. Take $f(x) = (x^2 - 1)^2$ as an example. Implement a modified Newton's iteraion,\n",
    "\n",
    "$$\n",
    "x_{n+1} = x_{n} - m \\frac{f(x_n)}{f'(x_n)}\n",
    "$$\n",
    "\n",
    "and vary $m= 1, 2, 3, 4, 5$. Check the number of iterations required for convergence within a fixed $\\epsilon$. Are your observations consistent with the expectation that the convergence is quadratic is $m$ equals the multiplicity of the root, and is linear otherwise? (40% of the total grade)"
   ]
  },
  {
   "cell_type": "code",
   "execution_count": 5,
   "metadata": {},
   "outputs": [],
   "source": [
    "def modified_newton_iteration(f, fder, x0, m, eps=1e-5, maxiter=1000): #Отдельно реализовала модифицированный метод\n",
    "    x = 0\n",
    "    x_n = x0\n",
    "    niter = 0\n",
    "    while (abs(x - x_n) > eps) and (niter < maxiter):\n",
    "        x = x_n\n",
    "        x_n = x - m*f(x)/fder(x) # домножили на m\n",
    "        niter += 1\n",
    "    return x_n, niter"
   ]
  },
  {
   "cell_type": "markdown",
   "metadata": {},
   "source": [
    "Тесты:"
   ]
  },
  {
   "cell_type": "code",
   "execution_count": 6,
   "metadata": {},
   "outputs": [
    {
     "name": "stdout",
     "output_type": "stream",
     "text": [
      "m = 1 ,  iterations:  18 ,  root = -1.00001 \n",
      "\n",
      "m = 2 ,  iterations:  5 ,  root = -1.0 \n",
      "\n",
      "m = 3 ,  iterations:  17 ,  root = -1.0 \n",
      "\n",
      "m = 4 ,  iterations:  1000 ,  root = -2.0 \n",
      "\n",
      "m = 5 ,  iterations:  1000 ,  root = -2.23968 \n",
      "\n"
     ]
    }
   ],
   "source": [
    "r = [0]*5\n",
    "n = [0]*5\n",
    "for i in range(5):\n",
    "    r[i], n[i] = modified_newton_iteration(lambda x: (x**2 - 1)**2, lambda x: 4*x*(x**2 - 1), x0 = -2, m = i+1)\n",
    "    print('m =', i+1,',', ' iterations: ', n[i],',', ' root =', round(r[i],5), '\\n')"
   ]
  },
  {
   "cell_type": "code",
   "execution_count": 7,
   "metadata": {},
   "outputs": [
    {
     "name": "stdout",
     "output_type": "stream",
     "text": [
      "m = 1 ,  iterations:  24 ,  root = 1.00001 \n",
      "\n",
      "m = 2 ,  iterations:  7 ,  root = 1.0 \n",
      "\n",
      "m = 3 ,  iterations:  17 ,  root = 1.0 \n",
      "\n",
      "m = 4 ,  iterations:  1000 ,  root = 10.0 \n",
      "\n",
      "m = 5 ,  iterations:  1000 ,  root = 1.55057 \n",
      "\n"
     ]
    }
   ],
   "source": [
    "r = [0]*5\n",
    "n = [0]*5\n",
    "for i in range(5):\n",
    "    r[i], n[i] = modified_newton_iteration(lambda x: (x**2 - 1)**2, lambda x: 4*x*(x**2 - 1), x0 = 10, m = i+1)\n",
    "    print('m =', i+1,',', ' iterations: ', n[i],',', ' root =', round(r[i],5), '\\n')"
   ]
  },
  {
   "cell_type": "markdown",
   "metadata": {},
   "source": [
    "CONCLUSION: Indeed, if $m$ equals the multiplicity of the root, the Newton's method converges best."
   ]
  },
  {
   "cell_type": "markdown",
   "metadata": {},
   "source": [
    "# Part II. Fixed-point iteration"
   ]
  },
  {
   "cell_type": "markdown",
   "metadata": {},
   "source": [
    "Consider the following equation:\n",
    "\n",
    "$$\n",
    "\\sqrt{x} = \\cos{x}\n",
    "$$\n",
    "\n",
    "Plot the left-hand side and right-hand side of this equation, and localize the root graphically. Estimate the location of the root by visual inspection of the plot.\n",
    "\n",
    "Write a function which finds the solution using fixed-point iteration up to a predefined accuracy $\\epsilon$. Compare the result to an estimate from a visual inspection.\n",
    "\n",
    "Next, rewrite the fixed-point problem in the form\n",
    "\n",
    "$$\n",
    "x = x - \\alpha f(x)\n",
    "$$\n",
    "\n",
    "where $\\alpha$ is the free parameter. Check the dependence of the number of iterations required for a given $\\epsilon$ on $\\alpha$. Compare your results to an expectation that the optimal value of $\\alpha$ is given by \n",
    "\n",
    "$$\n",
    "\\alpha = \\frac{2}{m + M}\n",
    "$$\n",
    "\n",
    "where $0 < m < |f'(x)| < M$ over the localization interval. (40% of the total grade)"
   ]
  },
  {
   "cell_type": "code",
   "execution_count": 31,
   "metadata": {},
   "outputs": [
    {
     "data": {
      "text/plain": [
       "Text(0.25, 1.15, 'Корень x ≈ 0.64')"
      ]
     },
     "execution_count": 31,
     "metadata": {},
     "output_type": "execute_result"
    },
    {
     "data": {
      "image/png": "[encoded data removed]",
      "text/plain": [
       "<Figure size 432x288 with 1 Axes>"
      ]
     },
     "metadata": {
      "needs_background": "light"
     },
     "output_type": "display_data"
    }
   ],
   "source": [
    "import matplotlib.pyplot as plt\n",
    "import numpy as np\n",
    "\n",
    "plt.figure()\n",
    "plt.xlabel('x', fontsize=15)\n",
    "plt.ylabel('y', fontsize=15)\n",
    "\n",
    "x = np.linspace(0, 2, 1000)\n",
    "y = np.linspace(-0.5, 1.5, 1000)\n",
    "plt.xlim(0, 2)\n",
    "plt.ylim(-0.5, 1.5)\n",
    "\n",
    "plt.plot(x, np.sqrt(x), color='blue', label='y = $\\sqrt{x}$')\n",
    "plt.plot(x, np.cos(x), color='red', label='y = cos(x)')\n",
    "plt.fill_betweenx(y, 0.5, 0.75, color='#b0c4de')  #Графическая локализация корня по оси х\n",
    "plt.legend(loc='right', fontsize='12')\n",
    "plt.grid()\n",
    "\n",
    "plt.annotate('Корень x ≈ 0.64', \n",
    "             fontsize=15,\n",
    "             xy=(0.64 , 0.81),\n",
    "             xytext=(0.25 , 1.15),\n",
    "             arrowprops=dict(arrowstyle='->', color='black'))"
   ]
  },
  {
   "cell_type": "markdown",
   "metadata": {},
   "source": [
    "1. Fixed-point iteration:"
   ]
  },
  {
   "cell_type": "code",
   "execution_count": 9,
   "metadata": {},
   "outputs": [],
   "source": [
    "def fixed_point_iteration(f, x0, eps=1e-5, maxiter=1000):\n",
    "    x = 0\n",
    "    x_n = x0\n",
    "    niter = 0\n",
    "    while (abs(x - x_n) > eps) and (niter < maxiter):\n",
    "        x = x_n\n",
    "        x_n = x - f(x)\n",
    "        niter += 1\n",
    "    return x_n, niter"
   ]
  },
  {
   "cell_type": "code",
   "execution_count": 10,
   "metadata": {},
   "outputs": [
    {
     "name": "stdout",
     "output_type": "stream",
     "text": [
      "root: 0.64171 ,  iterations: 9\n"
     ]
    }
   ],
   "source": [
    "r, n = fixed_point_iteration(lambda x: np.sqrt(x) - np.cos(x), x0 = 0.25)\n",
    "print(\"root:\", round(r, 5), ',',' iterations:', n)"
   ]
  },
  {
   "cell_type": "markdown",
   "metadata": {},
   "source": [
    "Корень совпал с ожидаемым."
   ]
  },
  {
   "cell_type": "markdown",
   "metadata": {},
   "source": [
    "2. Fixed-point iteration with $\\alpha$:"
   ]
  },
  {
   "cell_type": "code",
   "execution_count": 11,
   "metadata": {},
   "outputs": [],
   "source": [
    "def tuned_fixed_point_iteration(f, x0, a, eps=1e-5, maxiter=1000):\n",
    "    x = 0\n",
    "    x_n = x0\n",
    "    niter = 0\n",
    "    while (abs(x - x_n) > eps) and (niter < maxiter):\n",
    "        x = x_n\n",
    "        x_n = x - a*f(x)\n",
    "        niter += 1\n",
    "    return x_n, niter"
   ]
  },
  {
   "cell_type": "code",
   "execution_count": 12,
   "metadata": {},
   "outputs": [
    {
     "name": "stdout",
     "output_type": "stream",
     "text": [
      "Найденная оптимальная alpha = 0.818 ,  iterations:  3 ,  root = 0.64171\n"
     ]
    }
   ],
   "source": [
    "#Ищем оптимальный коэффициент альфа\n",
    "\n",
    "alpha = np.linspace(0.001, 1, 1000)\n",
    "l = len(alpha)\n",
    "r = [0]*l\n",
    "n = [0]*l\n",
    "\n",
    "for i in range(l):\n",
    "    r[i], n[i] = tuned_fixed_point_iteration(lambda x: np.sqrt(x) - np.cos(x), x0 = 0.25, a = alpha[i])\n",
    "k = np.argmin(n)\n",
    "print(\"Найденная оптимальная alpha =\", round(alpha[k], 3), ',', ' iterations: ', n[k],',', ' root =', round(r[k], 5))"
   ]
  },
  {
   "cell_type": "code",
   "execution_count": 16,
   "metadata": {},
   "outputs": [
    {
     "data": {
      "text/plain": [
       "[<matplotlib.lines.Line2D at 0x1e1e89db9b0>]"
      ]
     },
     "execution_count": 16,
     "metadata": {},
     "output_type": "execute_result"
    },
    {
     "data": {
      "image/png": "[encoded data removed]",
      "text/plain": [
       "<Figure size 432x288 with 1 Axes>"
      ]
     },
     "metadata": {
      "needs_background": "light"
     },
     "output_type": "display_data"
    }
   ],
   "source": [
    "plt.figure()\n",
    "plt.xlabel('alpha', fontsize=15)\n",
    "plt.ylabel(\"n_iter\", fontsize=15)\n",
    "plt.title(\"Зависимость кол-ва итераций от alpha\", fontsize=17)\n",
    "\n",
    "plt.plot(alpha, n)"
   ]
  },
  {
   "cell_type": "markdown",
   "metadata": {},
   "source": [
    "Вычислим альфа по данной формуле. Сначала посмотрим, как ведет себя производная на выделенном участке по х:"
   ]
  },
  {
   "cell_type": "code",
   "execution_count": 13,
   "metadata": {},
   "outputs": [
    {
     "data": {
      "text/plain": [
       "(1, 1.5)"
      ]
     },
     "execution_count": 13,
     "metadata": {},
     "output_type": "execute_result"
    },
    {
     "data": {
      "image/png": "[encoded data removed]",
      "text/plain": [
       "<Figure size 432x288 with 1 Axes>"
      ]
     },
     "metadata": {
      "needs_background": "light"
     },
     "output_type": "display_data"
    }
   ],
   "source": [
    "plt.figure()\n",
    "plt.xlabel('x', fontsize=15)\n",
    "plt.ylabel(\"f'(x) = 1/(2*sqrt(x)) + sin(x)\", fontsize=15)\n",
    "\n",
    "x = np.linspace(0.5, 0.75, 100)\n",
    "f = 1/2/np.sqrt(x) + np.sin(x)\n",
    "plt.plot(x, f)\n",
    "plt.xlim(0.5, 0.75)\n",
    "plt.ylim(1, 1.5)"
   ]
  },
  {
   "cell_type": "markdown",
   "metadata": {},
   "source": [
    "На `(0.5, 0.75)` производная монотонно возрастает. Следовательно, $m = f'(0.5), M = f'(0.75)$. Вычислим это значение:"
   ]
  },
  {
   "cell_type": "code",
   "execution_count": 14,
   "metadata": {},
   "outputs": [
    {
     "name": "stdout",
     "output_type": "stream",
     "text": [
      "Вычисленная alpha: 0.818\n"
     ]
    }
   ],
   "source": [
    "f = lambda x: 1/2/np.sqrt(x) + np.sin(x)\n",
    "a0 = 2 / (f(0.5) + f(0.75))\n",
    "print(\"Вычисленная alpha:\", round(a0, 3))"
   ]
  },
  {
   "cell_type": "markdown",
   "metadata": {},
   "source": [
    "Итак, коэффициенты $\\alpha$, найденные двумя разными способами, совпадают. Значит, это и есть оптимальный коэффициент."
   ]
  },
  {
   "cell_type": "markdown",
   "metadata": {},
   "source": [
    "# Part III. Newton's fractal.\n",
    "\n",
    "(Not graded). \n",
    "\n",
    "Consider the equation\n",
    "\n",
    "$$\n",
    "x^3 = 1\n",
    "$$\n",
    "\n",
    "It has three solutions in the complex plane, $x_k = \\exp(i\\, 2\\pi k/ 3)$, $k = 0, 1, 2$.\n",
    "\n",
    "The Newton's iterations converge to one of these solutions, depending on the starting point in the complex plane (to converge to a complex-valued solution, the iteration needs a complex-valued starting point).\n",
    "\n",
    "Plot the \\emph{basins of attraction} of these roots on the complex plane of $x$ (i.e., on the plane $\\mathrm{Re}x$ -- $\\mathrm{Im}x$). To this end, make a series of calculations, varying the initial conditions on a grid of points. \n",
    "Color the grid in three colors, according to the root, to which iterations converged."
   ]
  },
  {
   "cell_type": "code",
   "execution_count": 32,
   "metadata": {},
   "outputs": [
    {
     "data": {
      "text/plain": [
       "[<matplotlib.lines.Line2D at 0x1e1efa6d668>]"
      ]
     },
     "execution_count": 32,
     "metadata": {},
     "output_type": "execute_result"
    },
    {
     "data": {
      "image/png": "[encoded data removed]",
      "text/plain": [
       "<Figure size 504x504 with 1 Axes>"
      ]
     },
     "metadata": {
      "needs_background": "light"
     },
     "output_type": "display_data"
    }
   ],
   "source": [
    "import cmath\n",
    "\n",
    "res = 500 #\"Разрешение\"\n",
    "n = 2 \n",
    "\n",
    "r1 = np.zeros((1,2))\n",
    "r2 = np.zeros((1,2))\n",
    "r3 = np.zeros((1,2))\n",
    "\n",
    "for i in range(res):\n",
    "    for k in range(res):\n",
    "        \n",
    "        x = 2*n*i/res - n\n",
    "        y = 2*n*k/res - n\n",
    "        \n",
    "        r, n1 = newton_iteration(lambda x: x**3 - 1, lambda x: 3*x**2, x+y*1j)\n",
    "        \n",
    "        #Расстояние до корней\n",
    "        dr1 = abs(r - 1)\n",
    "        dr2 = abs(r - cmath.e**(2/3 * cmath.pi * 1j))\n",
    "        dr3 = abs(r - cmath.e**(4/3 * cmath.pi * 1j))\n",
    "        \n",
    "        delta = min(dr1, dr2, dr3)\n",
    "        \n",
    "        if delta == dr1:\n",
    "            r1 = np.append(r1, [[x, y]], axis=0)\n",
    "        elif delta == dr2:\n",
    "            r2 = np.append(r2, [[x, y]], axis=0)\n",
    "        else:\n",
    "            r3 = np.append(r3, [[x, y]], axis=0)\n",
    "\n",
    "plt.figure(figsize=(7,7))\n",
    "plt.xlabel('Re(x)', fontsize=15)\n",
    "plt.ylabel(\"Im(x)\", fontsize=15)\n",
    "plt.title(\"Newton's fractal\", fontsize=17)\n",
    "\n",
    "plt.plot(r1[1:,0], r1[1:,1], 'o', ms=1, color=\"red\")\n",
    "plt.plot(r2[1:,0], r2[1:,1], 'o', ms=1, color=\"blue\")\n",
    "plt.plot(r3[1:,0], r3[1:,1], 'o', ms=1, color=\"white\")"
   ]
  }
 ],
 "metadata": {
  "kernelspec": {
   "display_name": "Python 3",
   "language": "python",
   "name": "python3"
  },
  "language_info": {
   "codemirror_mode": {
    "name": "ipython",
    "version": 3
   },
   "file_extension": ".py",
   "mimetype": "text/x-python",
   "name": "python",
   "nbconvert_exporter": "python",
   "pygments_lexer": "ipython3",
   "version": "3.7.3"
  }
 },
 "nbformat": 4,
 "nbformat_minor": 2
}
