{
 "cells": [
  {
   "cell_type": "markdown",
   "metadata": {},
   "source": [
    "# Simple iteration for systems of linear equations"
   ]
  },
  {
   "cell_type": "markdown",
   "metadata": {},
   "source": [
    "First, generate a random diagonally dominant matrix, for testing."
   ]
  },
  {
   "cell_type": "code",
   "execution_count": 1,
   "metadata": {},
   "outputs": [],
   "source": [
    "import numpy as np\n",
    "rndm = np.random.RandomState(1234)\n",
    "\n",
    "n = 10\n",
    "A = rndm.uniform(size=(n, n)) + np.diagflat([15]*n)\n",
    "b = rndm.uniform(size=n)"
   ]
  },
  {
   "cell_type": "markdown",
   "metadata": {},
   "source": [
    "# I.  Jacobi iteration\n",
    "\n",
    "Given\n",
    "\n",
    "$$\n",
    "A x = b\n",
    "$$\n",
    "\n",
    "separate the diagonal part $D$,\n",
    "\n",
    "$$ A = D + (A - D) $$\n",
    "\n",
    "and write\n",
    "\n",
    "$$\n",
    "x = D^{-1} (D - A) x + D^{-1} b\\;.\n",
    "$$\n",
    "\n",
    "Then iterate\n",
    "\n",
    "$$\n",
    "x_{n + 1} = B x_{n} + c\\;,\n",
    "$$\n",
    "\n",
    "where \n",
    "\n",
    "$$\n",
    "B = D^{-1} (D - A) \\qquad \\text{and} \\qquad c = D^{-1} b\n",
    "$$\n"
   ]
  },
  {
   "cell_type": "markdown",
   "metadata": {},
   "source": [
    "Let's construct the matrix and the r.h.s. for the Jacobi iteration"
   ]
  },
  {
   "cell_type": "code",
   "execution_count": 2,
   "metadata": {},
   "outputs": [],
   "source": [
    "diag_1d = np.diag(A)\n",
    "\n",
    "B = -A.copy()\n",
    "np.fill_diagonal(B, 0)\n",
    "\n",
    "D = np.diag(diag_1d)\n",
    "invD = np.diag(1./diag_1d)\n",
    "BB = invD @ B \n",
    "c = invD @ b"
   ]
  },
  {
   "cell_type": "code",
   "execution_count": 3,
   "metadata": {},
   "outputs": [],
   "source": [
    "# sanity checks\n",
    "from numpy.testing import assert_allclose\n",
    "\n",
    "assert_allclose(-B + D, A)\n",
    "\n",
    "\n",
    "# xx is a \"ground truth\" solution, compute it using a direct method\n",
    "xx = np.linalg.solve(A, b)\n",
    "\n",
    "np.testing.assert_allclose(A@xx, b)\n",
    "np.testing.assert_allclose(D@xx, B@xx + b)\n",
    "np.testing.assert_allclose(xx, BB@xx + c)"
   ]
  },
  {
   "cell_type": "markdown",
   "metadata": {},
   "source": [
    "Check that $\\| B\\| \\leqslant 1$:"
   ]
  },
  {
   "cell_type": "code",
   "execution_count": 4,
   "metadata": {},
   "outputs": [
    {
     "data": {
      "text/plain": [
       "0.36436161983015336"
      ]
     },
     "execution_count": 4,
     "metadata": {},
     "output_type": "execute_result"
    }
   ],
   "source": [
    "np.linalg.norm(BB)"
   ]
  },
  {
   "cell_type": "markdown",
   "metadata": {},
   "source": [
    "### Do the Jacobi iteration"
   ]
  },
  {
   "cell_type": "code",
   "execution_count": 5,
   "metadata": {},
   "outputs": [],
   "source": [
    "n_iter = 50\n",
    "\n",
    "x0 = np.ones(n)\n",
    "x = x0\n",
    "for _ in range(n_iter):\n",
    "    x = BB @ x + c"
   ]
  },
  {
   "cell_type": "code",
   "execution_count": 6,
   "metadata": {},
   "outputs": [
    {
     "data": {
      "text/plain": [
       "array([ 0.00000000e+00,  2.22044605e-16,  0.00000000e+00, -1.11022302e-16,\n",
       "        0.00000000e+00,  0.00000000e+00, -2.08166817e-17,  0.00000000e+00,\n",
       "        0.00000000e+00,  2.22044605e-16])"
      ]
     },
     "execution_count": 6,
     "metadata": {},
     "output_type": "execute_result"
    }
   ],
   "source": [
    "# Check the result:\n",
    "\n",
    "A @ x - b"
   ]
  },
  {
   "cell_type": "markdown",
   "metadata": {},
   "source": [
    "### Task I.1\n",
    "\n",
    "Collect the proof-of-concept above into a single function implementing the Jacobi iteration. This function should receive the r.h.s. matrix $A$, the l.h.s. vector `b`, and the number of iterations to perform.\n",
    "\n",
    "\n",
    "The matrix $A$ in the illustration above is strongly diagonally dominant, by construction. \n",
    "What happens if the diagonal matrix elements of $A$ are made smaller? Check the convergence of the Jacobi iteration, and check the value of the norm of $B$.\n",
    "\n",
    "(20% of the total grade)\n"
   ]
  },
  {
   "cell_type": "code",
   "execution_count": 7,
   "metadata": {},
   "outputs": [],
   "source": [
    "def Jacobi_iter(A, b, n_iter=100):\n",
    "    diag_1d = np.diag(A)\n",
    "\n",
    "    B = -A.copy()\n",
    "    np.fill_diagonal(B, 0)\n",
    "\n",
    "    D = np.diag(diag_1d)\n",
    "    invD = np.diag(1./diag_1d)\n",
    "    BB = invD @ B \n",
    "    c = invD @ b\n",
    "    \n",
    "    x0 = np.ones(A.shape[0])\n",
    "    x = x0\n",
    "    for _ in range(n_iter):\n",
    "        x = BB @ x + c\n",
    "        \n",
    "    return x, np.linalg.norm(BB, ord=np.inf)"
   ]
  },
  {
   "cell_type": "code",
   "execution_count": 45,
   "metadata": {},
   "outputs": [
    {
     "name": "stdout",
     "output_type": "stream",
     "text": [
      "i = 15\n",
      "The norm of B: 0.37167367944829355\n",
      "The norm of Ax-b: 1.9292121753525021e-16\n",
      "The iteration converges \n",
      "\n",
      "i = 14\n",
      "The norm of B: 0.37293600593709264\n",
      "The norm of Ax-b: 1.601968055516711e-16\n",
      "The iteration converges \n",
      "\n",
      "i = 13\n",
      "The norm of B: 0.41995799373710285\n",
      "The norm of Ax-b: 2.482534153247273e-16\n",
      "The iteration converges \n",
      "\n",
      "i = 12\n",
      "The norm of B: 0.5226828031620211\n",
      "The norm of Ax-b: 2.0014830212433605e-16\n",
      "The iteration converges \n",
      "\n",
      "i = 11\n",
      "The norm of B: 0.5773501683020565\n",
      "The norm of Ax-b: 1.722188176232883e-16\n",
      "The iteration converges \n",
      "\n",
      "i = 10\n",
      "The norm of B: 0.5705140430246671\n",
      "The norm of Ax-b: 7.179257424810118e-15\n",
      "The iteration converges \n",
      "\n",
      "i = 9\n",
      "The norm of B: 0.6645838084563043\n",
      "The norm of Ax-b: 1.6310386360175804e-14\n",
      "The iteration converges \n",
      "\n",
      "i = 8\n",
      "The norm of B: 0.7646826649057468\n",
      "The norm of Ax-b: 7.970963880054843e-10\n",
      "The iteration converges \n",
      "\n",
      "i = 7\n",
      "The norm of B: 0.7305782630553815\n",
      "The norm of Ax-b: 2.084999658660043e-10\n",
      "The iteration converges \n",
      "\n",
      "i = 6\n",
      "The norm of B: 1.0119460126928255\n",
      "The norm of Ax-b: 2.1516023899472054e-05\n",
      "The iteration converges \n",
      "\n",
      "i = 5\n",
      "The norm of B: 1.04965221122531\n",
      "The norm of Ax-b: 0.006438225510435423\n",
      "The iteration converges \n",
      "\n",
      "i = 4\n",
      "The norm of B: 1.2029344420451258\n",
      "The norm of Ax-b: 55.70112473358306\n",
      "The iteration does not converge \n",
      "\n",
      "i = 3\n",
      "The norm of B: 1.5455554591205087\n",
      "The norm of Ax-b: 278635.05812046624\n",
      "The iteration does not converge \n",
      "\n",
      "i = 2\n",
      "The norm of B: 2.1537427398824973\n",
      "The norm of Ax-b: 9537102219952.896\n",
      "The iteration does not converge \n",
      "\n",
      "i = 1\n",
      "The norm of B: 4.347603136982684\n",
      "The norm of Ax-b: 1.7362786722301416e+25\n",
      "The iteration does not converge \n",
      "\n"
     ]
    }
   ],
   "source": [
    "rndm = np.random.RandomState(4567)\n",
    "\n",
    "n_iter = 50\n",
    "n = 10\n",
    "k = 15\n",
    "\n",
    "B_norms = []\n",
    "Ax_b_norms = []\n",
    "\n",
    "for i in range(k, 0, -1): # Будем уменьшать i и смотреть, когда появится расходимость\n",
    "    A = rndm.uniform(size=(n, n)) + np.diagflat([i]*n) \n",
    "    b = rndm.uniform(size=n)\n",
    "\n",
    "    x, B_norm = Jacobi_iter(A, b, n_iter)\n",
    "\n",
    "    print(\"i =\", i)\n",
    "    print(\"The norm of B:\", B_norm)\n",
    "    print(\"The norm of Ax-b:\", np.linalg.norm(A@x - b))\n",
    "    \n",
    "    if round(np.linalg.norm(A@x - b)) == 0:\n",
    "        print(\"The iteration converges \\n\")\n",
    "    else:\n",
    "        print(\"The iteration does not converge \\n\")\n",
    "        \n",
    "    B_norms.append(B_norm)\n",
    "    Ax_b_norms.append(np.linalg.norm(A@x - b))"
   ]
  },
  {
   "cell_type": "code",
   "execution_count": 17,
   "metadata": {},
   "outputs": [
    {
     "data": {
      "text/plain": [
       "<matplotlib.legend.Legend at 0x2ca67ef39e8>"
      ]
     },
     "execution_count": 17,
     "metadata": {},
     "output_type": "execute_result"
    },
    {
     "data": {
      "image/png": "[encoded data removed]",
      "text/plain": [
       "<Figure size 432x288 with 2 Axes>"
      ]
     },
     "metadata": {
      "needs_background": "light"
     },
     "output_type": "display_data"
    }
   ],
   "source": [
    "a = range(1, k+1, 1)\n",
    "\n",
    "import matplotlib.pyplot as plt\n",
    "fig, (ax1, ax2) = plt.subplots(2, 1, sharex=\"col\")\n",
    "\n",
    "ax1.set_title(\"The norm of B\")\n",
    "ax1.plot(a, list(reversed(B_norms)), label='|| B ||')\n",
    "ax1.hlines(1, 1, k, color='r', label='|| B || = 1')\n",
    "ax1.legend()\n",
    "\n",
    "ax2.set_title(\"The norm of Ax-b\")\n",
    "ax2.plot(a, list(reversed(Ax_b_norms)), color='g', label='|| Ax-b ||')\n",
    "ax2.set_xlabel('i', fontsize=15)\n",
    "ax2.set_yscale('log')\n",
    "ax2.legend()"
   ]
  },
  {
   "cell_type": "markdown",
   "metadata": {},
   "source": [
    "Заключаем, что the Jacobi iteration converges, когда $\\| B\\| \\leqslant 1$, т.е. матрица A is *diagonally dominant* (sufficient condition)."
   ]
  },
  {
   "cell_type": "markdown",
   "metadata": {},
   "source": [
    "# II. Seidel's iteration."
   ]
  },
  {
   "cell_type": "markdown",
   "metadata": {},
   "source": [
    "##### Task II.1\n",
    "\n",
    "Implement the Seidel's iteration. \n",
    "\n",
    "Test it on a random matrix. Study the convergence of iterations, relate to the norm of the iteration matrix.\n",
    "\n",
    "(30% of the total grade)"
   ]
  },
  {
   "cell_type": "markdown",
   "metadata": {
    "collapsed": true
   },
   "source": [
    "Given\n",
    "\n",
    "$$\n",
    "A x = b\n",
    "$$\n",
    "\n",
    "separate the diagonal part $D$, the upper triangular part $U$ and the lower tiangular part $L$,\n",
    "\n",
    "$$ A = L + D + U $$\n",
    "\n",
    "and write\n",
    "\n",
    "$$\n",
    "x = -D^{-1} (L+U) x + D^{-1} b\\;.\n",
    "$$\n",
    "\n",
    "Then iterate\n",
    "\n",
    "$$\n",
    "x_{n + 1} = B x_{n} + c\\;,\n",
    "$$\n",
    "\n",
    "where \n",
    "\n",
    "$$\n",
    "B = -D^{-1} (L+U) \\qquad \\text{and} \\qquad c = D^{-1} b\\;.\n",
    "$$\n",
    "\n",
    "Для исследования сходимости найдем нормы матриц\n",
    "\n",
    "$$\n",
    "B_{L} = -D^{-1}L, B_{U} = -D^{-1}U\n",
    "$$"
   ]
  },
  {
   "cell_type": "code",
   "execution_count": 10,
   "metadata": {},
   "outputs": [],
   "source": [
    "def Seidel_iter(A, b, n_iter=100):\n",
    "    diag_1d = np.diag(A)\n",
    "    \n",
    "    D = np.diag(diag_1d)\n",
    "    invD = np.diag(1./diag_1d)\n",
    "\n",
    "    B_L = - invD @ np.tril(A, -1)\n",
    "    B_U = - invD @ np.triu(A, 1)\n",
    "    \n",
    "    B = B_L + B_U\n",
    "    \n",
    "    x0 = np.ones(A.shape[0])\n",
    "    x = x0\n",
    "    \n",
    "    for k in range(n_iter):\n",
    "        for i in range(A.shape[0]):\n",
    "            x[i] = x[i] + (b[i] - A[i,:] @ x) /A[i,i] #ищем покомпонентно\n",
    "        \n",
    "    return x, np.linalg.norm(B, ord=np.inf), np.linalg.norm(B_L, ord=np.inf) + np.linalg.norm(B_U, ord=np.inf)"
   ]
  },
  {
   "cell_type": "code",
   "execution_count": 21,
   "metadata": {},
   "outputs": [
    {
     "name": "stdout",
     "output_type": "stream",
     "text": [
      "i = 15\n",
      "The norm of B: 0.3880949414445036\n",
      "The sum of norms of B_L and B_U: 0.6513014220870976\n",
      "The norm of Ax-b: 1.5700924586837752e-16\n",
      "The iteration converges \n",
      "\n",
      "i = 14\n",
      "The norm of B: 0.34877612735793206\n",
      "The sum of norms of B_L and B_U: 0.6342800325371438\n",
      "The norm of Ax-b: 1.576213700060856e-16\n",
      "The iteration converges \n",
      "\n",
      "i = 13\n",
      "The norm of B: 0.3947479019313985\n",
      "The sum of norms of B_L and B_U: 0.730529720095337\n",
      "The norm of Ax-b: 0.0\n",
      "The iteration converges \n",
      "\n",
      "i = 12\n",
      "The norm of B: 0.4970112108759579\n",
      "The sum of norms of B_L and B_U: 0.7690352378056613\n",
      "The norm of Ax-b: 2.237726045655905e-16\n",
      "The iteration converges \n",
      "\n",
      "i = 11\n",
      "The norm of B: 0.5507632223338901\n",
      "The sum of norms of B_L and B_U: 0.8203942915932243\n",
      "The norm of Ax-b: 0.0\n",
      "The iteration converges \n",
      "\n",
      "i = 10\n",
      "The norm of B: 0.5417512898637273\n",
      "The sum of norms of B_L and B_U: 0.9378297762055416\n",
      "The norm of Ax-b: 1.2719202621569003e-16\n",
      "The iteration converges \n",
      "\n",
      "i = 9\n",
      "The norm of B: 0.6750999950627203\n",
      "The sum of norms of B_L and B_U: 1.0037101532149648\n",
      "The norm of Ax-b: 5.551115123125783e-17\n",
      "The iteration converges \n",
      "\n",
      "i = 8\n",
      "The norm of B: 0.6577062088985862\n",
      "The sum of norms of B_L and B_U: 1.0528053980219223\n",
      "The norm of Ax-b: 1.1188630228279524e-16\n",
      "The iteration converges \n",
      "\n",
      "i = 7\n",
      "The norm of B: 0.707506813774957\n",
      "The sum of norms of B_L and B_U: 1.260081634294081\n",
      "The norm of Ax-b: 1.6653345369377348e-16\n",
      "The iteration converges \n",
      "\n",
      "i = 6\n",
      "The norm of B: 0.8748010078743405\n",
      "The sum of norms of B_L and B_U: 1.4686518935307273\n",
      "The norm of Ax-b: 2.0014830212433605e-16\n",
      "The iteration converges \n",
      "\n",
      "i = 5\n",
      "The norm of B: 1.0240974172007171\n",
      "The sum of norms of B_L and B_U: 1.905044981800371\n",
      "The norm of Ax-b: 1.2197462367390768e-16\n",
      "The iteration converges \n",
      "\n",
      "i = 4\n",
      "The norm of B: 1.317289067672251\n",
      "The sum of norms of B_L and B_U: 2.0966837513163767\n",
      "The norm of Ax-b: 2.3592239273284576e-16\n",
      "The iteration converges \n",
      "\n",
      "i = 3\n",
      "The norm of B: 1.5562892583450258\n",
      "The sum of norms of B_L and B_U: 2.7447960829267855\n",
      "The norm of Ax-b: 1.594436429147036e-16\n",
      "The iteration converges \n",
      "\n",
      "i = 2\n",
      "The norm of B: 2.7417529891882007\n",
      "The sum of norms of B_L and B_U: 4.018058823276851\n",
      "The norm of Ax-b: 1.2719202621569003e-16\n",
      "The iteration converges \n",
      "\n",
      "i = 1\n",
      "The norm of B: 3.8359673771782212\n",
      "The sum of norms of B_L and B_U: 5.274989314164999\n",
      "The norm of Ax-b: 1.158964184411874e-06\n",
      "The iteration converges \n",
      "\n"
     ]
    }
   ],
   "source": [
    "rndm = np.random.RandomState(8901)\n",
    "\n",
    "n_iter = 50\n",
    "n = 10\n",
    "k = 15\n",
    "\n",
    "B_norms = []\n",
    "B_LU_norms = []\n",
    "Ax_b_norms = []\n",
    "\n",
    "for i in range(k, 0, -1): # Будем уменьшать i и смотреть, когда появится расходимость\n",
    "    A = rndm.uniform(size=(n, n)) + np.diagflat([i]*n) \n",
    "    b = rndm.uniform(size=n)\n",
    "\n",
    "    x, B_norm, B_LU_norm = Seidel_iter(A, b, n_iter)\n",
    "\n",
    "    print(\"i =\", i)\n",
    "    print(\"The norm of B:\", B_norm)\n",
    "    print(\"The sum of norms of B_L and B_U:\", B_LU_norm)\n",
    "    print(\"The norm of Ax-b:\", np.linalg.norm(A@x - b))\n",
    "    \n",
    "    if round(np.linalg.norm(A@x - b)) == 0:\n",
    "        print(\"The iteration converges \\n\")\n",
    "    else:\n",
    "        print(\"The iteration does not converge \\n\")\n",
    " \n",
    "    \n",
    "    B_norms.append(B_norm)\n",
    "    B_LU_norms.append(B_LU_norm)\n",
    "    Ax_b_norms.append(np.linalg.norm(A@x - b))"
   ]
  },
  {
   "cell_type": "code",
   "execution_count": 12,
   "metadata": {},
   "outputs": [
    {
     "data": {
      "text/plain": [
       "<matplotlib.legend.Legend at 0x2ca678554e0>"
      ]
     },
     "execution_count": 12,
     "metadata": {},
     "output_type": "execute_result"
    },
    {
     "data": {
      "image/png": "[encoded data removed]",
      "text/plain": [
       "<Figure size 504x504 with 3 Axes>"
      ]
     },
     "metadata": {
      "needs_background": "light"
     },
     "output_type": "display_data"
    }
   ],
   "source": [
    "a = range(1, k+1, 1)\n",
    "\n",
    "import matplotlib.pyplot as plt\n",
    "fig, (ax1, ax2, ax3) = plt.subplots(3, 1, figsize=(7, 7), sharex=\"col\")\n",
    "\n",
    "ax1.set_title(\"The norm of B\")\n",
    "ax1.plot(a, list(reversed(B_norms)), label='|| B ||')\n",
    "ax1.hlines(1, 1, k, color='r', label='|| B || = 1')\n",
    "ax1.legend()\n",
    "\n",
    "ax2.set_title(\"The sum of norms of B_L and B_U:\")\n",
    "ax2.plot(a, list(reversed(B_LU_norms)), label='|| B_L ||+||B_U||')\n",
    "ax2.hlines(1, 1, k, color='r', label='|| B_L ||+||B_U|| = 1')\n",
    "ax2.legend()\n",
    "\n",
    "ax3.set_title(\"The norm of Ax-b\")\n",
    "ax3.plot(a, list(reversed(Ax_b_norms)), color='g', label='|| Ax-b ||')\n",
    "ax3.set_xlabel('i', fontsize=15)\n",
    "ax3.set_yscale('log')\n",
    "ax3.legend()"
   ]
  },
  {
   "cell_type": "markdown",
   "metadata": {},
   "source": [
    "При выполнении достаточного условия $\\| B\\| \\leqslant 1$ (или более слабого $\\| B_{L}\\| + \\|B_{U}\\| \\leqslant 1$) всё хорошо сходится, но и при нарушении этих условий тоже может сходиться.\n",
    "\n",
    "Проверим выполнение *необходимого* и достаточного условия $\\rho (\\tilde B) < 1$, где $\\tilde B = -(D+L)^{-1}U$:"
   ]
  },
  {
   "cell_type": "code",
   "execution_count": 13,
   "metadata": {},
   "outputs": [],
   "source": [
    "def Seidel_iter1(A, b, n_iter=100):\n",
    "    diag_1d = np.diag(A)\n",
    "\n",
    "    D = np.diag(diag_1d)\n",
    "    L = np.tril(A, -1)\n",
    "    U = np.triu(A, 1)\n",
    "    \n",
    "    B = -np.linalg.inv(D+L) @ U\n",
    "    c = np.linalg.inv(D+L) @ b\n",
    "    \n",
    "    x0 = np.ones(A.shape[0])\n",
    "    x = x0\n",
    "    for _ in range(n_iter):\n",
    "        x = B @ x + c\n",
    "    \n",
    "    spectrum, __ = np.linalg.eig(B)\n",
    "    \n",
    "    for _ in range(len(spectrum)):\n",
    "        spectrum[_] = abs(spectrum[_])\n",
    "        \n",
    "    return x, max(spectrum)"
   ]
  },
  {
   "cell_type": "code",
   "execution_count": 32,
   "metadata": {},
   "outputs": [
    {
     "name": "stdout",
     "output_type": "stream",
     "text": [
      "i = 10\n",
      "The spectral radius of B: (0.08075227695817089+0j)\n",
      "The norm of Ax-b: 4.335559509131367e-16\n",
      "The iteration converges \n",
      "\n",
      "i = 9\n",
      "The spectral radius of B: (0.11604913155044688+0j)\n",
      "The norm of Ax-b: 2.7928509224031823e-16\n",
      "The iteration converges \n",
      "\n",
      "i = 8\n",
      "The spectral radius of B: (0.11842315474861274+0j)\n",
      "The norm of Ax-b: 2.0955000055363631e-16\n",
      "The iteration converges \n",
      "\n",
      "i = 7\n",
      "The spectral radius of B: (0.11812284853140648+0j)\n",
      "The norm of Ax-b: 2.220446049250313e-16\n",
      "The iteration converges \n",
      "\n",
      "i = 6\n",
      "The spectral radius of B: (0.14892660843261268+0j)\n",
      "The norm of Ax-b: 2.9893669801409083e-16\n",
      "The iteration converges \n",
      "\n",
      "i = 5\n",
      "The spectral radius of B: (0.1979331243919973+0j)\n",
      "The norm of Ax-b: 3.4219371797089426e-16\n",
      "The iteration converges \n",
      "\n",
      "i = 4\n",
      "The spectral radius of B: (0.2146297562559432+0j)\n",
      "The norm of Ax-b: 2.0014830212433605e-16\n",
      "The iteration converges \n",
      "\n",
      "i = 3\n",
      "The spectral radius of B: (0.21179881983298196+0j)\n",
      "The norm of Ax-b: 2.1898779786837934e-16\n",
      "The iteration converges \n",
      "\n",
      "i = 2\n",
      "The spectral radius of B: (0.41803302537202713+0j)\n",
      "The norm of Ax-b: 2.0014830212433605e-16\n",
      "The iteration converges \n",
      "\n",
      "i = 1\n",
      "The spectral radius of B: (0.9578873475635251+0j)\n",
      "The norm of Ax-b: 0.06711658038631842\n",
      "The iteration converges \n",
      "\n",
      "i = 0\n",
      "The spectral radius of B: (321.34217891587593+0j)\n",
      "The norm of Ax-b: inf\n",
      "The iteration does not converge \n",
      "\n",
      "i = -1\n",
      "The spectral radius of B: (6612.162545849778+0j)\n",
      "The norm of Ax-b: nan\n",
      "The iteration does not converge \n",
      "\n",
      "i = -2\n",
      "The spectral radius of B: (17.189257565711912+0j)\n",
      "The norm of Ax-b: 2.317200583147669e+124\n",
      "The iteration does not converge \n",
      "\n",
      "i = -3\n",
      "The spectral radius of B: (3.2835199046873753+0j)\n",
      "The norm of Ax-b: 1.8714511774360557e+52\n",
      "The iteration does not converge \n",
      "\n",
      "i = -4\n",
      "The spectral radius of B: (1.5219520025311626+0j)\n",
      "The norm of Ax-b: 1.5582089856216243e+18\n",
      "The iteration does not converge \n",
      "\n",
      "i = -5\n",
      "The spectral radius of B: (0.8979551920905323+0j)\n",
      "The norm of Ax-b: 5.249199787066719e-05\n",
      "The iteration converges \n",
      "\n",
      "i = -6\n",
      "The spectral radius of B: (0.5551309847746769+0j)\n",
      "The norm of Ax-b: 6.933340566559918e-16\n",
      "The iteration converges \n",
      "\n",
      "i = -7\n",
      "The spectral radius of B: (0.47575419159142335+0j)\n",
      "The norm of Ax-b: 4.079219866531555e-16\n",
      "The iteration converges \n",
      "\n",
      "i = -8\n",
      "The spectral radius of B: (0.37964833068199305+0j)\n",
      "The norm of Ax-b: 4.2276033262255756e-16\n",
      "The iteration converges \n",
      "\n",
      "i = -9\n",
      "The spectral radius of B: (0.3360423369618832+0j)\n",
      "The norm of Ax-b: 4.742874840267547e-16\n",
      "The iteration converges \n",
      "\n"
     ]
    }
   ],
   "source": [
    "rndm = np.random.RandomState(235467)\n",
    "\n",
    "n_iter = 100\n",
    "n = 10\n",
    "k = 10\n",
    "\n",
    "Rho = []\n",
    "Ax_b_norms = []\n",
    "\n",
    "for i in range(k, -k, -1): # Будем уменьшать i и смотреть, когда появится расходимость\n",
    "    A = rndm.uniform(size=(n, n)) + np.diagflat([i]*n) \n",
    "    b = rndm.uniform(size=n)\n",
    "\n",
    "    x, rho = Seidel_iter1(A, b, n_iter)\n",
    "\n",
    "    print(\"i =\", i)\n",
    "    print(\"The spectral radius of B:\", rho)\n",
    "    print(\"The norm of Ax-b:\", np.linalg.norm(A@x - b))\n",
    "        \n",
    "    if round(np.linalg.norm(A@x - b)) == 0:\n",
    "        print(\"The iteration converges \\n\")\n",
    "    else:\n",
    "        print(\"The iteration does not converge \\n\")\n",
    "         \n",
    "    Rho.append(rho)\n",
    "    Ax_b_norms.append(np.linalg.norm(A@x - b))"
   ]
  },
  {
   "cell_type": "code",
   "execution_count": 42,
   "metadata": {},
   "outputs": [
    {
     "data": {
      "text/plain": [
       "<matplotlib.legend.Legend at 0x2ca69d365c0>"
      ]
     },
     "execution_count": 42,
     "metadata": {},
     "output_type": "execute_result"
    },
    {
     "data": {
      "image/png": "[encoded data removed]",
      "text/plain": [
       "<Figure size 432x288 with 2 Axes>"
      ]
     },
     "metadata": {
      "needs_background": "light"
     },
     "output_type": "display_data"
    }
   ],
   "source": [
    "a = range(-k, k, 1)\n",
    "\n",
    "import matplotlib.pyplot as plt\n",
    "fig, (ax1, ax2) = plt.subplots(2, 1, sharex=\"col\")\n",
    "\n",
    "ax1.set_title(\"The spectral radius of B:\")\n",
    "ax1.plot(a, list(reversed(Rho)), label='p (B)')\n",
    "ax1.hlines(1, -k, k, color='r', label='p (B) = 1')\n",
    "ax1.set_yscale('log')\n",
    "ax1.legend()\n",
    "\n",
    "ax2.set_title(\"The norm of Ax-b\")\n",
    "ax2.plot(a, list(reversed(Ax_b_norms)), color='g', label='|| Ax-b ||')\n",
    "ax2.set_xlabel('i', fontsize=15)\n",
    "ax2.set_yscale('log')\n",
    "ax2.legend()"
   ]
  },
  {
   "cell_type": "markdown",
   "metadata": {},
   "source": [
    "Действительно, при $\\rho(\\tilde B) < 1$ the Seidel's iteration сходится."
   ]
  },
  {
   "cell_type": "markdown",
   "metadata": {},
   "source": [
    "# III. Minimum residual scheme"
   ]
  },
  {
   "cell_type": "markdown",
   "metadata": {},
   "source": [
    "### Task III.1\n",
    "\n",
    "Implement the $\\textit{minimum residual}$ scheme: an explicit non-stationary method, where at each step you select the iteration parameter $\\tau_n$ to minimize the residual $\\mathbf{r}_{n+1}$ given $\\mathbf{r}_n$. Test it on a random matrix, study the convergence to the solution, in terms of the norm of the residual and the deviation from the ground truth solution (which you can obtain using a direct method). Study how the iteration parameter $\\tau_n$ changes as iterations progress.\n",
    "\n",
    "(50% of the grade)"
   ]
  },
  {
   "cell_type": "code",
   "execution_count": null,
   "metadata": {
    "collapsed": true
   },
   "outputs": [],
   "source": [
    "# ... ENTER YOUR CODE HERE ..."
   ]
  }
 ],
 "metadata": {
  "kernelspec": {
   "display_name": "Python 3",
   "language": "python",
   "name": "python3"
  },
  "language_info": {
   "codemirror_mode": {
    "name": "ipython",
    "version": 3
   },
   "file_extension": ".py",
   "mimetype": "text/x-python",
   "name": "python",
   "nbconvert_exporter": "python",
   "pygments_lexer": "ipython3",
   "version": "3.7.1"
  }
 },
 "nbformat": 4,
 "nbformat_minor": 2
}
